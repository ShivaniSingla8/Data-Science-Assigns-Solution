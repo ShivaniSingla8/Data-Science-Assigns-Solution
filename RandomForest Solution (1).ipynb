{
 "cells": [
  {
   "cell_type": "code",
   "execution_count": null,
   "metadata": {
    "id": "z5V3f-Yecfar"
   },
   "outputs": [],
   "source": [
    "# Shivani\n",
    "import pandas as pd\n",
    "import numpy as np\n",
    "import seaborn as sns\n",
    "import matplotlib.pyplot as plt\n",
    "from sklearn.model_selection import KFold\n",
    "from sklearn.model_selection import cross_val_score\n",
    "from sklearn.ensemble import RandomForestClassifier\n",
    "\n"
   ]
  },
  {
   "cell_type": "code",
   "execution_count": null,
   "metadata": {
    "colab": {
     "base_uri": "https://localhost:8080/",
     "height": 423
    },
    "id": "uXGewfRgdHFJ",
    "outputId": "791dd52e-bc36-4deb-b774-099134ea3665"
   },
   "outputs": [],
   "source": [
    "glass = pd.read_excel(r\"C:\\Users\\ACS\\OneDrive\\Desktop\\data sets\\glass.xlsx\",sheet_name=1)\n",
    "glass"
   ]
  },
  {
   "cell_type": "code",
   "execution_count": null,
   "metadata": {
    "colab": {
     "base_uri": "https://localhost:8080/",
     "height": 300
    },
    "id": "xTC_B1_1duUd",
    "outputId": "f5f0cc85-643a-435b-c9c3-7a4107568898"
   },
   "outputs": [],
   "source": [
    "glass.describe()"
   ]
  },
  {
   "cell_type": "code",
   "execution_count": null,
   "metadata": {
    "id": "iYFBEh7oftV8"
   },
   "outputs": [],
   "source": [
    "glass.drop(columns=['Ba','Fe'],inplace =True)  #removed columns because of no main data in IQR as its 0"
   ]
  },
  {
   "cell_type": "code",
   "execution_count": null,
   "metadata": {
    "colab": {
     "base_uri": "https://localhost:8080/",
     "height": 423
    },
    "id": "zNyguAC-f4fC",
    "outputId": "ee6fb816-965c-41c4-c5f5-15aa061004e7"
   },
   "outputs": [],
   "source": [
    "glass"
   ]
  },
  {
   "cell_type": "code",
   "execution_count": null,
   "metadata": {
    "colab": {
     "base_uri": "https://localhost:8080/"
    },
    "id": "GUk7tNtWgNyc",
    "outputId": "1c739158-3f37-4940-94fd-d61d3eb56d19"
   },
   "outputs": [],
   "source": [
    "glass.info()"
   ]
  },
  {
   "cell_type": "code",
   "execution_count": null,
   "metadata": {
    "colab": {
     "base_uri": "https://localhost:8080/"
    },
    "id": "uRd5QB7zgRPN",
    "outputId": "5c0a26da-820f-4c35-ec5a-cbec9f3a86e0"
   },
   "outputs": [],
   "source": [
    "glass.duplicated().sum()            # checked all duplicates in data"
   ]
  },
  {
   "cell_type": "code",
   "execution_count": null,
   "metadata": {
    "colab": {
     "base_uri": "https://localhost:8080/",
     "height": 423
    },
    "id": "VpqeTFPzgZmS",
    "outputId": "3a823928-2495-432d-a033-b04a3d3d0b8d"
   },
   "outputs": [],
   "source": [
    "glass[glass.duplicated()]"
   ]
  },
  {
   "cell_type": "code",
   "execution_count": null,
   "metadata": {
    "id": "L4apYciNhvAC"
   },
   "outputs": [],
   "source": [
    "glass.drop_duplicates(inplace = True) # removed all duplicates from data"
   ]
  },
  {
   "cell_type": "code",
   "execution_count": null,
   "metadata": {
    "colab": {
     "base_uri": "https://localhost:8080/"
    },
    "id": "AAYgCdK1iLMG",
    "outputId": "c1593828-8f09-496b-be77-6a4edc5c6306"
   },
   "outputs": [],
   "source": [
    "glass.isna().sum()"
   ]
  },
  {
   "cell_type": "code",
   "execution_count": null,
   "metadata": {
    "id": "pLU_AQHyiQfM"
   },
   "outputs": [],
   "source": [
    "glass.dropna(inplace = True)   #removed null values"
   ]
  },
  {
   "cell_type": "code",
   "execution_count": null,
   "metadata": {
    "colab": {
     "base_uri": "https://localhost:8080/"
    },
    "id": "6CzOxsnPiogB",
    "outputId": "f8ef2570-22e5-4a7f-cc88-8834aae875f3"
   },
   "outputs": [],
   "source": [
    "glass.isna().sum()"
   ]
  },
  {
   "cell_type": "code",
   "execution_count": null,
   "metadata": {
    "colab": {
     "base_uri": "https://localhost:8080/",
     "height": 487
    },
    "id": "TZzjz7l2eghi",
    "outputId": "9883a239-fa24-44f4-a7ef-68677b0e82fa"
   },
   "outputs": [],
   "source": [
    "glass.hist()\n",
    "plt.tight_layout()"
   ]
  },
  {
   "cell_type": "code",
   "execution_count": null,
   "metadata": {
    "colab": {
     "base_uri": "https://localhost:8080/",
     "height": 448
    },
    "id": "KuY6rAfris2w",
    "outputId": "d1495fea-943d-4a52-a166-277c60f2ba68"
   },
   "outputs": [],
   "source": [
    "sns.boxplot(glass)  #we can observe a lot of outliers in almost all of them"
   ]
  },
  {
   "cell_type": "code",
   "execution_count": null,
   "metadata": {
    "id": "W7ICuno3maL8"
   },
   "outputs": [],
   "source": [
    "def outlier_detection(data,colname):\n",
    "  q1 = data[colname].quantile(0.25)                #user defined function for outlier detection\n",
    "  q3 = data[colname].quantile(0.75)\n",
    "  iqr = q3 - q1\n",
    "\n",
    "  upper_extreme = q3 + (1.5 * iqr)\n",
    "  lower_extreme = q1 - (1.5 * iqr)\n",
    "\n",
    "  return lower_extreme, upper_extreme"
   ]
  },
  {
   "cell_type": "code",
   "execution_count": null,
   "metadata": {
    "colab": {
     "base_uri": "https://localhost:8080/"
    },
    "id": "BvQCreAcmaJE",
    "outputId": "a97dc0b7-fdd1-4809-a934-e4b361683283"
   },
   "outputs": [],
   "source": [
    "outlier_detection(glass, glass.columns)"
   ]
  },
  {
   "cell_type": "code",
   "execution_count": null,
   "metadata": {
    "id": "LNdRU0BnmaGA"
   },
   "outputs": [],
   "source": [
    "glass.loc[glass['RI']>1.52311,'RI'] = 1.52311             #fixing the outliers\n",
    "glass.loc[glass['RI']<1.51257,'RI'] = 1.51257"
   ]
  },
  {
   "cell_type": "code",
   "execution_count": null,
   "metadata": {
    "id": "Spbu7Uk3oUtF"
   },
   "outputs": [],
   "source": [
    "glass.loc[glass['Na']>15.20125,'Na'] = 15.20125\n",
    "glass.loc[glass['Na']<11.53125,'Na'] = 11.53125"
   ]
  },
  {
   "cell_type": "code",
   "execution_count": null,
   "metadata": {
    "id": "r9SBgQA4m5ap"
   },
   "outputs": [],
   "source": [
    "glass.loc[glass['Al']>2.290000,'Al'] = 2.290000\n",
    "glass.loc[glass['Al']<0.530000,'Al'] = 0.530000"
   ]
  },
  {
   "cell_type": "code",
   "execution_count": null,
   "metadata": {
    "id": "0AXp8eaBnL7C"
   },
   "outputs": [],
   "source": [
    "glass.loc[glass['Si']>74.305000,'Si'] = 74.305000\n",
    "glass.loc[glass['Si']<71.065000,'Si'] = 71.065000"
   ]
  },
  {
   "cell_type": "code",
   "execution_count": null,
   "metadata": {
    "id": "n_xS3ZtenkjL"
   },
   "outputs": [],
   "source": [
    "glass.loc[glass['K']>1.330000,'K'] = 1.330000"
   ]
  },
  {
   "cell_type": "code",
   "execution_count": null,
   "metadata": {
    "id": "057sPbWyoica"
   },
   "outputs": [],
   "source": [
    "glass.loc[glass['Ca']>10.515000,'Ca'] = 10.515000\n",
    "glass.loc[glass['Ca']<6.875000,'Ca'] = 6.875000"
   ]
  },
  {
   "cell_type": "code",
   "execution_count": null,
   "metadata": {
    "id": "zStQkbxRpGtc"
   },
   "outputs": [],
   "source": [
    "glass.loc[glass['Type']>6.000000,'Type'] = 6.000000"
   ]
  },
  {
   "cell_type": "code",
   "execution_count": null,
   "metadata": {
    "colab": {
     "base_uri": "https://localhost:8080/",
     "height": 448
    },
    "id": "8ZzRp1n3maDE",
    "outputId": "7eea8b67-cb6a-4a28-bb6f-ac9207ae1a7f"
   },
   "outputs": [],
   "source": [
    "sns.boxplot(glass)   #removed almost all outliers"
   ]
  },
  {
   "cell_type": "code",
   "execution_count": null,
   "metadata": {
    "colab": {
     "base_uri": "https://localhost:8080/",
     "height": 487
    },
    "id": "9wyTOMmNmZ9d",
    "outputId": "1e18c95d-10a7-4ee6-f701-a47ea086a8de"
   },
   "outputs": [],
   "source": [
    "glass.hist()\n",
    "plt.tight_layout()            #shows removal of skewness"
   ]
  },
  {
   "cell_type": "code",
   "execution_count": null,
   "metadata": {
    "colab": {
     "base_uri": "https://localhost:8080/",
     "height": 1000
    },
    "id": "PFn7kHjumZ4t",
    "outputId": "f2e29808-20a3-47d7-af4b-f90b46d73064"
   },
   "outputs": [],
   "source": [
    "sns.pairplot(glass) #pairplot shows relation between all columns"
   ]
  },
  {
   "cell_type": "code",
   "execution_count": null,
   "metadata": {
    "colab": {
     "base_uri": "https://localhost:8080/",
     "height": 453
    },
    "id": "c1QZwDxVeyTL",
    "outputId": "b51a2f07-f75d-40fa-88c5-8cbbc8d407e9"
   },
   "outputs": [],
   "source": [
    "sns.heatmap(glass.corr(),annot=True,cmap='viridis')   #we can observe high positive correlation between RI and Ca and high negative corr between RI and Si"
   ]
  },
  {
   "cell_type": "code",
   "execution_count": null,
   "metadata": {
    "id": "OUGDx4xtmZ1k"
   },
   "outputs": [],
   "source": [
    "x=glass.iloc[:,0:7]                   #divided independent and dependent data\n",
    "y=glass.iloc[:,7]"
   ]
  },
  {
   "cell_type": "code",
   "execution_count": null,
   "metadata": {
    "id": "sWfIV_LUmZt2"
   },
   "outputs": [],
   "source": [
    "from sklearn.preprocessing import StandardScaler                  #scaling the independent data into standard form for better calculation of output\n",
    "sc = StandardScaler()"
   ]
  },
  {
   "cell_type": "code",
   "execution_count": null,
   "metadata": {
    "colab": {
     "base_uri": "https://localhost:8080/"
    },
    "id": "boW66swyvDff",
    "outputId": "a94c6d34-1593-4127-fe9e-d2a1d523a626"
   },
   "outputs": [],
   "source": [
    "sc.fit_transform(x)"
   ]
  },
  {
   "cell_type": "code",
   "execution_count": null,
   "metadata": {
    "colab": {
     "base_uri": "https://localhost:8080/",
     "height": 423
    },
    "id": "URpPC_6wvLNf",
    "outputId": "41f23264-3f90-4017-91d3-684593b3470e"
   },
   "outputs": [],
   "source": [
    "scaled_data = pd.DataFrame(sc.fit_transform(x),columns=x.columns)\n",
    "scaled_data"
   ]
  },
  {
   "cell_type": "code",
   "execution_count": null,
   "metadata": {
    "id": "YB7TNbkFjf_3"
   },
   "outputs": [],
   "source": [
    "array = x.values\n",
    "X = array[:,0:7]                         #taking out array values for further model building of decision tree and bagging and boosting\n",
    "Y = y.values\n",
    "seed = 7"
   ]
  },
  {
   "cell_type": "code",
   "execution_count": null,
   "metadata": {
    "colab": {
     "base_uri": "https://localhost:8080/"
    },
    "id": "e0geMWfrEM7q",
    "outputId": "c5e05523-893d-4602-cf96-c11c824c6a04"
   },
   "outputs": [],
   "source": [
    "# Import the necessary modules\n",
    "from sklearn.model_selection import train_test_split, GridSearchCV\n",
    "from sklearn.ensemble import RandomForestClassifier, GradientBoostingClassifier\n",
    "from sklearn.tree import DecisionTreeClassifier\n",
    "from sklearn.metrics import classification_report\n",
    "\n",
    "# Split the data into training and testing sets\n",
    "X_train, X_test, Y_train, Y_test = train_test_split(X, Y, test_size=0.3, random_state=7)\n",
    "\n",
    "# Train the decision tree model\n",
    "model = DecisionTreeClassifier(criterion='gini', max_depth=3, min_samples_leaf=1)\n",
    "model.fit(X_train, Y_train)\n",
    "\n",
    "# Predict the labels for the test data\n",
    "ypred = model.predict(X_test)\n",
    "\n",
    "# Print the classification report\n",
    "print(classification_report(Y_test, ypred))\n",
    "\n",
    "# Print the training and testing accuracy\n",
    "print('Train Accuracy: ', model.score(X_train, Y_train))\n",
    "print('Test Accuracy: ', model.score(X_test, Y_test))"
   ]
  },
  {
   "cell_type": "markdown",
   "metadata": {
    "id": "qSF-HO1qFEJ1"
   },
   "source": [
    "bagging"
   ]
  },
  {
   "cell_type": "code",
   "execution_count": null,
   "metadata": {
    "id": "LMxlsAwWEfaB"
   },
   "outputs": [],
   "source": [
    "from sklearn.ensemble import BaggingClassifier\n"
   ]
  },
  {
   "cell_type": "code",
   "execution_count": null,
   "metadata": {
    "colab": {
     "base_uri": "https://localhost:8080/"
    },
    "id": "QvZWE65aFp_x",
    "outputId": "e3652f0f-6b9a-440f-b305-a86ca3427d7e"
   },
   "outputs": [],
   "source": [
    "kfold = KFold(n_splits=10,random_state=seed,shuffle=True) # evaluation method\n",
    "cart = DecisionTreeClassifier()\n",
    "num_trees = 100\n",
    "\n",
    "model = BaggingClassifier(estimator = cart, n_estimators = num_trees , random_state = seed)\n",
    "model.fit(X_train, Y_train)\n",
    "\n",
    "# Predict the labels for the test data\n",
    "ypred = model.predict(X_test)\n",
    "\n",
    "# Print the classification report\n",
    "print(classification_report(Y_test, ypred))\n",
    "\n",
    "# Print the training and testing accuracy\n",
    "print('Train Accuracy: ', model.score(X_train, Y_train))\n",
    "print('Test Accuracy: ', model.score(X_test, Y_test))"
   ]
  },
  {
   "cell_type": "markdown",
   "metadata": {
    "id": "6GPrmAjQIYk-"
   },
   "source": [
    "boosting"
   ]
  },
  {
   "cell_type": "code",
   "execution_count": null,
   "metadata": {
    "id": "LHinwkojIIvJ"
   },
   "outputs": [],
   "source": [
    "from sklearn.ensemble import BaggingClassifier, AdaBoostClassifier"
   ]
  },
  {
   "cell_type": "code",
   "execution_count": null,
   "metadata": {
    "colab": {
     "base_uri": "https://localhost:8080/"
    },
    "id": "2u2RH9fpTuTy",
    "outputId": "0b040515-2943-46e9-c675-d1871dac6478"
   },
   "outputs": [],
   "source": [
    "model = AdaBoostClassifier(n_estimators = num_trees , random_state = seed)\n",
    "model.fit(X_train, Y_train)\n",
    "\n",
    "# Predict the labels for the test data\n",
    "ypred = model.predict(X_test)\n",
    "\n",
    "# Print the classification report\n",
    "print(classification_report(Y_test, ypred))\n",
    "\n",
    "# Print the training and testing accuracy\n",
    "print('Train Accuracy: ', model.score(X_train, Y_train))\n",
    "print('Test Accuracy: ', model.score(X_test, Y_test))"
   ]
  },
  {
   "cell_type": "code",
   "execution_count": null,
   "metadata": {
    "id": "gdmiUY68ghXR"
   },
   "outputs": [],
   "source": [
    "# we can do further hypertuning to paramters for much better result in all category currently we have used selective features for everyone"
   ]
  },
  {
   "cell_type": "markdown",
   "metadata": {
    "id": "5tMg382sgTBv"
   },
   "source": [
    "additional notes :\n",
    "\n",
    "1.Bagging: Reduces variance by averaging predictions from models trained on different subsets of data. Boosting: Reduces bias by sequentially training models that focus on errors of previous models.\n",
    "\n",
    "2. imbalance in the data depends on type of imbalance in the data. it can be due to null values , missing values , wrong data types or outliers so they are treated accordingly like deleting the null values according to percentage of data mising from columns , in missing values imputation we replace them with median in presence of outliers and outliers are treated by upper extreme and lower extreme calculations\n",
    "\n",
    "\n"
   ]
  },
  {
   "cell_type": "code",
   "execution_count": null,
   "metadata": {
    "id": "H6we7BotdK9E"
   },
   "outputs": [],
   "source": []
  }
 ],
 "metadata": {
  "colab": {
   "provenance": []
  },
  "kernelspec": {
   "display_name": "Python 3 (ipykernel)",
   "language": "python",
   "name": "python3"
  },
  "language_info": {
   "codemirror_mode": {
    "name": "ipython",
    "version": 3
   },
   "file_extension": ".py",
   "mimetype": "text/x-python",
   "name": "python",
   "nbconvert_exporter": "python",
   "pygments_lexer": "ipython3",
   "version": "3.11.7"
  }
 },
 "nbformat": 4,
 "nbformat_minor": 4
}
