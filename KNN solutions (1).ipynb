{
 "cells": [
  {
   "cell_type": "code",
   "execution_count": 1,
   "metadata": {
    "id": "wv_hJFzu7SaK"
   },
   "outputs": [],
   "source": [
    "import pandas as pd\n",
    "import seaborn as sns\n",
    "import numpy as np\n",
    "from sklearn.model_selection import KFold\n",
    "from sklearn.model_selection import cross_val_score\n",
    "from sklearn.neighbors import KNeighborsClassifier"
   ]
  },
  {
   "cell_type": "code",
   "execution_count": 2,
   "metadata": {
    "colab": {
     "base_uri": "https://localhost:8080/",
     "height": 461
    },
    "id": "MHwevJAr76h4",
    "outputId": "3f74fd26-54e0-4acb-f89d-2be9bd921872"
   },
   "outputs": [
    {
     "data": {
      "text/html": [
       "<div>\n",
       "<style scoped>\n",
       "    .dataframe tbody tr th:only-of-type {\n",
       "        vertical-align: middle;\n",
       "    }\n",
       "\n",
       "    .dataframe tbody tr th {\n",
       "        vertical-align: top;\n",
       "    }\n",
       "\n",
       "    .dataframe thead th {\n",
       "        text-align: right;\n",
       "    }\n",
       "</style>\n",
       "<table border=\"1\" class=\"dataframe\">\n",
       "  <thead>\n",
       "    <tr style=\"text-align: right;\">\n",
       "      <th></th>\n",
       "      <th>animal name</th>\n",
       "      <th>hair</th>\n",
       "      <th>feathers</th>\n",
       "      <th>eggs</th>\n",
       "      <th>milk</th>\n",
       "      <th>airborne</th>\n",
       "      <th>aquatic</th>\n",
       "      <th>predator</th>\n",
       "      <th>toothed</th>\n",
       "      <th>backbone</th>\n",
       "      <th>breathes</th>\n",
       "      <th>venomous</th>\n",
       "      <th>fins</th>\n",
       "      <th>legs</th>\n",
       "      <th>tail</th>\n",
       "      <th>domestic</th>\n",
       "      <th>catsize</th>\n",
       "      <th>type</th>\n",
       "    </tr>\n",
       "  </thead>\n",
       "  <tbody>\n",
       "    <tr>\n",
       "      <th>0</th>\n",
       "      <td>aardvark</td>\n",
       "      <td>1</td>\n",
       "      <td>0</td>\n",
       "      <td>0</td>\n",
       "      <td>1</td>\n",
       "      <td>0</td>\n",
       "      <td>0</td>\n",
       "      <td>1</td>\n",
       "      <td>1</td>\n",
       "      <td>1</td>\n",
       "      <td>1</td>\n",
       "      <td>0</td>\n",
       "      <td>0</td>\n",
       "      <td>4</td>\n",
       "      <td>0</td>\n",
       "      <td>0</td>\n",
       "      <td>1</td>\n",
       "      <td>1</td>\n",
       "    </tr>\n",
       "    <tr>\n",
       "      <th>1</th>\n",
       "      <td>antelope</td>\n",
       "      <td>1</td>\n",
       "      <td>0</td>\n",
       "      <td>0</td>\n",
       "      <td>1</td>\n",
       "      <td>0</td>\n",
       "      <td>0</td>\n",
       "      <td>0</td>\n",
       "      <td>1</td>\n",
       "      <td>1</td>\n",
       "      <td>1</td>\n",
       "      <td>0</td>\n",
       "      <td>0</td>\n",
       "      <td>4</td>\n",
       "      <td>1</td>\n",
       "      <td>0</td>\n",
       "      <td>1</td>\n",
       "      <td>1</td>\n",
       "    </tr>\n",
       "    <tr>\n",
       "      <th>2</th>\n",
       "      <td>bass</td>\n",
       "      <td>0</td>\n",
       "      <td>0</td>\n",
       "      <td>1</td>\n",
       "      <td>0</td>\n",
       "      <td>0</td>\n",
       "      <td>1</td>\n",
       "      <td>1</td>\n",
       "      <td>1</td>\n",
       "      <td>1</td>\n",
       "      <td>0</td>\n",
       "      <td>0</td>\n",
       "      <td>1</td>\n",
       "      <td>0</td>\n",
       "      <td>1</td>\n",
       "      <td>0</td>\n",
       "      <td>0</td>\n",
       "      <td>4</td>\n",
       "    </tr>\n",
       "    <tr>\n",
       "      <th>3</th>\n",
       "      <td>bear</td>\n",
       "      <td>1</td>\n",
       "      <td>0</td>\n",
       "      <td>0</td>\n",
       "      <td>1</td>\n",
       "      <td>0</td>\n",
       "      <td>0</td>\n",
       "      <td>1</td>\n",
       "      <td>1</td>\n",
       "      <td>1</td>\n",
       "      <td>1</td>\n",
       "      <td>0</td>\n",
       "      <td>0</td>\n",
       "      <td>4</td>\n",
       "      <td>0</td>\n",
       "      <td>0</td>\n",
       "      <td>1</td>\n",
       "      <td>1</td>\n",
       "    </tr>\n",
       "    <tr>\n",
       "      <th>4</th>\n",
       "      <td>boar</td>\n",
       "      <td>1</td>\n",
       "      <td>0</td>\n",
       "      <td>0</td>\n",
       "      <td>1</td>\n",
       "      <td>0</td>\n",
       "      <td>0</td>\n",
       "      <td>1</td>\n",
       "      <td>1</td>\n",
       "      <td>1</td>\n",
       "      <td>1</td>\n",
       "      <td>0</td>\n",
       "      <td>0</td>\n",
       "      <td>4</td>\n",
       "      <td>1</td>\n",
       "      <td>0</td>\n",
       "      <td>1</td>\n",
       "      <td>1</td>\n",
       "    </tr>\n",
       "    <tr>\n",
       "      <th>...</th>\n",
       "      <td>...</td>\n",
       "      <td>...</td>\n",
       "      <td>...</td>\n",
       "      <td>...</td>\n",
       "      <td>...</td>\n",
       "      <td>...</td>\n",
       "      <td>...</td>\n",
       "      <td>...</td>\n",
       "      <td>...</td>\n",
       "      <td>...</td>\n",
       "      <td>...</td>\n",
       "      <td>...</td>\n",
       "      <td>...</td>\n",
       "      <td>...</td>\n",
       "      <td>...</td>\n",
       "      <td>...</td>\n",
       "      <td>...</td>\n",
       "      <td>...</td>\n",
       "    </tr>\n",
       "    <tr>\n",
       "      <th>96</th>\n",
       "      <td>wallaby</td>\n",
       "      <td>1</td>\n",
       "      <td>0</td>\n",
       "      <td>0</td>\n",
       "      <td>1</td>\n",
       "      <td>0</td>\n",
       "      <td>0</td>\n",
       "      <td>0</td>\n",
       "      <td>1</td>\n",
       "      <td>1</td>\n",
       "      <td>1</td>\n",
       "      <td>0</td>\n",
       "      <td>0</td>\n",
       "      <td>2</td>\n",
       "      <td>1</td>\n",
       "      <td>0</td>\n",
       "      <td>1</td>\n",
       "      <td>1</td>\n",
       "    </tr>\n",
       "    <tr>\n",
       "      <th>97</th>\n",
       "      <td>wasp</td>\n",
       "      <td>1</td>\n",
       "      <td>0</td>\n",
       "      <td>1</td>\n",
       "      <td>0</td>\n",
       "      <td>1</td>\n",
       "      <td>0</td>\n",
       "      <td>0</td>\n",
       "      <td>0</td>\n",
       "      <td>0</td>\n",
       "      <td>1</td>\n",
       "      <td>1</td>\n",
       "      <td>0</td>\n",
       "      <td>6</td>\n",
       "      <td>0</td>\n",
       "      <td>0</td>\n",
       "      <td>0</td>\n",
       "      <td>6</td>\n",
       "    </tr>\n",
       "    <tr>\n",
       "      <th>98</th>\n",
       "      <td>wolf</td>\n",
       "      <td>1</td>\n",
       "      <td>0</td>\n",
       "      <td>0</td>\n",
       "      <td>1</td>\n",
       "      <td>0</td>\n",
       "      <td>0</td>\n",
       "      <td>1</td>\n",
       "      <td>1</td>\n",
       "      <td>1</td>\n",
       "      <td>1</td>\n",
       "      <td>0</td>\n",
       "      <td>0</td>\n",
       "      <td>4</td>\n",
       "      <td>1</td>\n",
       "      <td>0</td>\n",
       "      <td>1</td>\n",
       "      <td>1</td>\n",
       "    </tr>\n",
       "    <tr>\n",
       "      <th>99</th>\n",
       "      <td>worm</td>\n",
       "      <td>0</td>\n",
       "      <td>0</td>\n",
       "      <td>1</td>\n",
       "      <td>0</td>\n",
       "      <td>0</td>\n",
       "      <td>0</td>\n",
       "      <td>0</td>\n",
       "      <td>0</td>\n",
       "      <td>0</td>\n",
       "      <td>1</td>\n",
       "      <td>0</td>\n",
       "      <td>0</td>\n",
       "      <td>0</td>\n",
       "      <td>0</td>\n",
       "      <td>0</td>\n",
       "      <td>0</td>\n",
       "      <td>7</td>\n",
       "    </tr>\n",
       "    <tr>\n",
       "      <th>100</th>\n",
       "      <td>wren</td>\n",
       "      <td>0</td>\n",
       "      <td>1</td>\n",
       "      <td>1</td>\n",
       "      <td>0</td>\n",
       "      <td>1</td>\n",
       "      <td>0</td>\n",
       "      <td>0</td>\n",
       "      <td>0</td>\n",
       "      <td>1</td>\n",
       "      <td>1</td>\n",
       "      <td>0</td>\n",
       "      <td>0</td>\n",
       "      <td>2</td>\n",
       "      <td>1</td>\n",
       "      <td>0</td>\n",
       "      <td>0</td>\n",
       "      <td>2</td>\n",
       "    </tr>\n",
       "  </tbody>\n",
       "</table>\n",
       "<p>101 rows × 18 columns</p>\n",
       "</div>"
      ],
      "text/plain": [
       "    animal name  hair  feathers  eggs  milk  airborne  aquatic  predator  \\\n",
       "0      aardvark     1         0     0     1         0        0         1   \n",
       "1      antelope     1         0     0     1         0        0         0   \n",
       "2          bass     0         0     1     0         0        1         1   \n",
       "3          bear     1         0     0     1         0        0         1   \n",
       "4          boar     1         0     0     1         0        0         1   \n",
       "..          ...   ...       ...   ...   ...       ...      ...       ...   \n",
       "96      wallaby     1         0     0     1         0        0         0   \n",
       "97         wasp     1         0     1     0         1        0         0   \n",
       "98         wolf     1         0     0     1         0        0         1   \n",
       "99         worm     0         0     1     0         0        0         0   \n",
       "100        wren     0         1     1     0         1        0         0   \n",
       "\n",
       "     toothed  backbone  breathes  venomous  fins  legs  tail  domestic  \\\n",
       "0          1         1         1         0     0     4     0         0   \n",
       "1          1         1         1         0     0     4     1         0   \n",
       "2          1         1         0         0     1     0     1         0   \n",
       "3          1         1         1         0     0     4     0         0   \n",
       "4          1         1         1         0     0     4     1         0   \n",
       "..       ...       ...       ...       ...   ...   ...   ...       ...   \n",
       "96         1         1         1         0     0     2     1         0   \n",
       "97         0         0         1         1     0     6     0         0   \n",
       "98         1         1         1         0     0     4     1         0   \n",
       "99         0         0         1         0     0     0     0         0   \n",
       "100        0         1         1         0     0     2     1         0   \n",
       "\n",
       "     catsize  type  \n",
       "0          1     1  \n",
       "1          1     1  \n",
       "2          0     4  \n",
       "3          1     1  \n",
       "4          1     1  \n",
       "..       ...   ...  \n",
       "96         1     1  \n",
       "97         0     6  \n",
       "98         1     1  \n",
       "99         0     7  \n",
       "100        0     2  \n",
       "\n",
       "[101 rows x 18 columns]"
      ]
     },
     "execution_count": 2,
     "metadata": {},
     "output_type": "execute_result"
    }
   ],
   "source": [
    "zoo = pd.read_csv(r\"C:\\Users\\ACS\\OneDrive\\Desktop\\data sets\\Zoo.csv\")\n",
    "zoo"
   ]
  },
  {
   "cell_type": "code",
   "execution_count": 3,
   "metadata": {
    "colab": {
     "base_uri": "https://localhost:8080/",
     "height": 320
    },
    "id": "sMBacZdK8HIM",
    "outputId": "351400b9-8224-4722-daa8-c4abc811aea7"
   },
   "outputs": [
    {
     "data": {
      "text/html": [
       "<div>\n",
       "<style scoped>\n",
       "    .dataframe tbody tr th:only-of-type {\n",
       "        vertical-align: middle;\n",
       "    }\n",
       "\n",
       "    .dataframe tbody tr th {\n",
       "        vertical-align: top;\n",
       "    }\n",
       "\n",
       "    .dataframe thead th {\n",
       "        text-align: right;\n",
       "    }\n",
       "</style>\n",
       "<table border=\"1\" class=\"dataframe\">\n",
       "  <thead>\n",
       "    <tr style=\"text-align: right;\">\n",
       "      <th></th>\n",
       "      <th>hair</th>\n",
       "      <th>feathers</th>\n",
       "      <th>eggs</th>\n",
       "      <th>milk</th>\n",
       "      <th>airborne</th>\n",
       "      <th>aquatic</th>\n",
       "      <th>predator</th>\n",
       "      <th>toothed</th>\n",
       "      <th>backbone</th>\n",
       "      <th>breathes</th>\n",
       "      <th>venomous</th>\n",
       "      <th>fins</th>\n",
       "      <th>legs</th>\n",
       "      <th>tail</th>\n",
       "      <th>domestic</th>\n",
       "      <th>catsize</th>\n",
       "      <th>type</th>\n",
       "    </tr>\n",
       "  </thead>\n",
       "  <tbody>\n",
       "    <tr>\n",
       "      <th>count</th>\n",
       "      <td>101.000000</td>\n",
       "      <td>101.000000</td>\n",
       "      <td>101.000000</td>\n",
       "      <td>101.000000</td>\n",
       "      <td>101.000000</td>\n",
       "      <td>101.000000</td>\n",
       "      <td>101.000000</td>\n",
       "      <td>101.000000</td>\n",
       "      <td>101.000000</td>\n",
       "      <td>101.000000</td>\n",
       "      <td>101.000000</td>\n",
       "      <td>101.000000</td>\n",
       "      <td>101.000000</td>\n",
       "      <td>101.000000</td>\n",
       "      <td>101.000000</td>\n",
       "      <td>101.000000</td>\n",
       "      <td>101.000000</td>\n",
       "    </tr>\n",
       "    <tr>\n",
       "      <th>mean</th>\n",
       "      <td>0.425743</td>\n",
       "      <td>0.198020</td>\n",
       "      <td>0.584158</td>\n",
       "      <td>0.405941</td>\n",
       "      <td>0.237624</td>\n",
       "      <td>0.356436</td>\n",
       "      <td>0.554455</td>\n",
       "      <td>0.603960</td>\n",
       "      <td>0.821782</td>\n",
       "      <td>0.792079</td>\n",
       "      <td>0.079208</td>\n",
       "      <td>0.168317</td>\n",
       "      <td>2.841584</td>\n",
       "      <td>0.742574</td>\n",
       "      <td>0.128713</td>\n",
       "      <td>0.435644</td>\n",
       "      <td>2.831683</td>\n",
       "    </tr>\n",
       "    <tr>\n",
       "      <th>std</th>\n",
       "      <td>0.496921</td>\n",
       "      <td>0.400495</td>\n",
       "      <td>0.495325</td>\n",
       "      <td>0.493522</td>\n",
       "      <td>0.427750</td>\n",
       "      <td>0.481335</td>\n",
       "      <td>0.499505</td>\n",
       "      <td>0.491512</td>\n",
       "      <td>0.384605</td>\n",
       "      <td>0.407844</td>\n",
       "      <td>0.271410</td>\n",
       "      <td>0.376013</td>\n",
       "      <td>2.033385</td>\n",
       "      <td>0.439397</td>\n",
       "      <td>0.336552</td>\n",
       "      <td>0.498314</td>\n",
       "      <td>2.102709</td>\n",
       "    </tr>\n",
       "    <tr>\n",
       "      <th>min</th>\n",
       "      <td>0.000000</td>\n",
       "      <td>0.000000</td>\n",
       "      <td>0.000000</td>\n",
       "      <td>0.000000</td>\n",
       "      <td>0.000000</td>\n",
       "      <td>0.000000</td>\n",
       "      <td>0.000000</td>\n",
       "      <td>0.000000</td>\n",
       "      <td>0.000000</td>\n",
       "      <td>0.000000</td>\n",
       "      <td>0.000000</td>\n",
       "      <td>0.000000</td>\n",
       "      <td>0.000000</td>\n",
       "      <td>0.000000</td>\n",
       "      <td>0.000000</td>\n",
       "      <td>0.000000</td>\n",
       "      <td>1.000000</td>\n",
       "    </tr>\n",
       "    <tr>\n",
       "      <th>25%</th>\n",
       "      <td>0.000000</td>\n",
       "      <td>0.000000</td>\n",
       "      <td>0.000000</td>\n",
       "      <td>0.000000</td>\n",
       "      <td>0.000000</td>\n",
       "      <td>0.000000</td>\n",
       "      <td>0.000000</td>\n",
       "      <td>0.000000</td>\n",
       "      <td>1.000000</td>\n",
       "      <td>1.000000</td>\n",
       "      <td>0.000000</td>\n",
       "      <td>0.000000</td>\n",
       "      <td>2.000000</td>\n",
       "      <td>0.000000</td>\n",
       "      <td>0.000000</td>\n",
       "      <td>0.000000</td>\n",
       "      <td>1.000000</td>\n",
       "    </tr>\n",
       "    <tr>\n",
       "      <th>50%</th>\n",
       "      <td>0.000000</td>\n",
       "      <td>0.000000</td>\n",
       "      <td>1.000000</td>\n",
       "      <td>0.000000</td>\n",
       "      <td>0.000000</td>\n",
       "      <td>0.000000</td>\n",
       "      <td>1.000000</td>\n",
       "      <td>1.000000</td>\n",
       "      <td>1.000000</td>\n",
       "      <td>1.000000</td>\n",
       "      <td>0.000000</td>\n",
       "      <td>0.000000</td>\n",
       "      <td>4.000000</td>\n",
       "      <td>1.000000</td>\n",
       "      <td>0.000000</td>\n",
       "      <td>0.000000</td>\n",
       "      <td>2.000000</td>\n",
       "    </tr>\n",
       "    <tr>\n",
       "      <th>75%</th>\n",
       "      <td>1.000000</td>\n",
       "      <td>0.000000</td>\n",
       "      <td>1.000000</td>\n",
       "      <td>1.000000</td>\n",
       "      <td>0.000000</td>\n",
       "      <td>1.000000</td>\n",
       "      <td>1.000000</td>\n",
       "      <td>1.000000</td>\n",
       "      <td>1.000000</td>\n",
       "      <td>1.000000</td>\n",
       "      <td>0.000000</td>\n",
       "      <td>0.000000</td>\n",
       "      <td>4.000000</td>\n",
       "      <td>1.000000</td>\n",
       "      <td>0.000000</td>\n",
       "      <td>1.000000</td>\n",
       "      <td>4.000000</td>\n",
       "    </tr>\n",
       "    <tr>\n",
       "      <th>max</th>\n",
       "      <td>1.000000</td>\n",
       "      <td>1.000000</td>\n",
       "      <td>1.000000</td>\n",
       "      <td>1.000000</td>\n",
       "      <td>1.000000</td>\n",
       "      <td>1.000000</td>\n",
       "      <td>1.000000</td>\n",
       "      <td>1.000000</td>\n",
       "      <td>1.000000</td>\n",
       "      <td>1.000000</td>\n",
       "      <td>1.000000</td>\n",
       "      <td>1.000000</td>\n",
       "      <td>8.000000</td>\n",
       "      <td>1.000000</td>\n",
       "      <td>1.000000</td>\n",
       "      <td>1.000000</td>\n",
       "      <td>7.000000</td>\n",
       "    </tr>\n",
       "  </tbody>\n",
       "</table>\n",
       "</div>"
      ],
      "text/plain": [
       "             hair    feathers        eggs        milk    airborne     aquatic  \\\n",
       "count  101.000000  101.000000  101.000000  101.000000  101.000000  101.000000   \n",
       "mean     0.425743    0.198020    0.584158    0.405941    0.237624    0.356436   \n",
       "std      0.496921    0.400495    0.495325    0.493522    0.427750    0.481335   \n",
       "min      0.000000    0.000000    0.000000    0.000000    0.000000    0.000000   \n",
       "25%      0.000000    0.000000    0.000000    0.000000    0.000000    0.000000   \n",
       "50%      0.000000    0.000000    1.000000    0.000000    0.000000    0.000000   \n",
       "75%      1.000000    0.000000    1.000000    1.000000    0.000000    1.000000   \n",
       "max      1.000000    1.000000    1.000000    1.000000    1.000000    1.000000   \n",
       "\n",
       "         predator     toothed    backbone    breathes    venomous        fins  \\\n",
       "count  101.000000  101.000000  101.000000  101.000000  101.000000  101.000000   \n",
       "mean     0.554455    0.603960    0.821782    0.792079    0.079208    0.168317   \n",
       "std      0.499505    0.491512    0.384605    0.407844    0.271410    0.376013   \n",
       "min      0.000000    0.000000    0.000000    0.000000    0.000000    0.000000   \n",
       "25%      0.000000    0.000000    1.000000    1.000000    0.000000    0.000000   \n",
       "50%      1.000000    1.000000    1.000000    1.000000    0.000000    0.000000   \n",
       "75%      1.000000    1.000000    1.000000    1.000000    0.000000    0.000000   \n",
       "max      1.000000    1.000000    1.000000    1.000000    1.000000    1.000000   \n",
       "\n",
       "             legs        tail    domestic     catsize        type  \n",
       "count  101.000000  101.000000  101.000000  101.000000  101.000000  \n",
       "mean     2.841584    0.742574    0.128713    0.435644    2.831683  \n",
       "std      2.033385    0.439397    0.336552    0.498314    2.102709  \n",
       "min      0.000000    0.000000    0.000000    0.000000    1.000000  \n",
       "25%      2.000000    0.000000    0.000000    0.000000    1.000000  \n",
       "50%      4.000000    1.000000    0.000000    0.000000    2.000000  \n",
       "75%      4.000000    1.000000    0.000000    1.000000    4.000000  \n",
       "max      8.000000    1.000000    1.000000    1.000000    7.000000  "
      ]
     },
     "execution_count": 3,
     "metadata": {},
     "output_type": "execute_result"
    }
   ],
   "source": [
    "zoo.describe()"
   ]
  },
  {
   "cell_type": "code",
   "execution_count": 4,
   "metadata": {
    "id": "xT0bCVlY8RAH"
   },
   "outputs": [],
   "source": [
    "zoo.drop(columns=['feathers','airborne','backbone','breathes','venomous','fins','domestic'],inplace=True)\n",
    "#dropped columns with no content in IQR"
   ]
  },
  {
   "cell_type": "code",
   "execution_count": 5,
   "metadata": {
    "colab": {
     "base_uri": "https://localhost:8080/",
     "height": 423
    },
    "id": "5V-v6I-l839_",
    "outputId": "cd1406d1-bc1f-4dfc-def2-283edf23b6fd"
   },
   "outputs": [
    {
     "data": {
      "text/html": [
       "<div>\n",
       "<style scoped>\n",
       "    .dataframe tbody tr th:only-of-type {\n",
       "        vertical-align: middle;\n",
       "    }\n",
       "\n",
       "    .dataframe tbody tr th {\n",
       "        vertical-align: top;\n",
       "    }\n",
       "\n",
       "    .dataframe thead th {\n",
       "        text-align: right;\n",
       "    }\n",
       "</style>\n",
       "<table border=\"1\" class=\"dataframe\">\n",
       "  <thead>\n",
       "    <tr style=\"text-align: right;\">\n",
       "      <th></th>\n",
       "      <th>animal name</th>\n",
       "      <th>hair</th>\n",
       "      <th>eggs</th>\n",
       "      <th>milk</th>\n",
       "      <th>aquatic</th>\n",
       "      <th>predator</th>\n",
       "      <th>toothed</th>\n",
       "      <th>legs</th>\n",
       "      <th>tail</th>\n",
       "      <th>catsize</th>\n",
       "      <th>type</th>\n",
       "    </tr>\n",
       "  </thead>\n",
       "  <tbody>\n",
       "    <tr>\n",
       "      <th>0</th>\n",
       "      <td>aardvark</td>\n",
       "      <td>1</td>\n",
       "      <td>0</td>\n",
       "      <td>1</td>\n",
       "      <td>0</td>\n",
       "      <td>1</td>\n",
       "      <td>1</td>\n",
       "      <td>4</td>\n",
       "      <td>0</td>\n",
       "      <td>1</td>\n",
       "      <td>1</td>\n",
       "    </tr>\n",
       "    <tr>\n",
       "      <th>1</th>\n",
       "      <td>antelope</td>\n",
       "      <td>1</td>\n",
       "      <td>0</td>\n",
       "      <td>1</td>\n",
       "      <td>0</td>\n",
       "      <td>0</td>\n",
       "      <td>1</td>\n",
       "      <td>4</td>\n",
       "      <td>1</td>\n",
       "      <td>1</td>\n",
       "      <td>1</td>\n",
       "    </tr>\n",
       "    <tr>\n",
       "      <th>2</th>\n",
       "      <td>bass</td>\n",
       "      <td>0</td>\n",
       "      <td>1</td>\n",
       "      <td>0</td>\n",
       "      <td>1</td>\n",
       "      <td>1</td>\n",
       "      <td>1</td>\n",
       "      <td>0</td>\n",
       "      <td>1</td>\n",
       "      <td>0</td>\n",
       "      <td>4</td>\n",
       "    </tr>\n",
       "    <tr>\n",
       "      <th>3</th>\n",
       "      <td>bear</td>\n",
       "      <td>1</td>\n",
       "      <td>0</td>\n",
       "      <td>1</td>\n",
       "      <td>0</td>\n",
       "      <td>1</td>\n",
       "      <td>1</td>\n",
       "      <td>4</td>\n",
       "      <td>0</td>\n",
       "      <td>1</td>\n",
       "      <td>1</td>\n",
       "    </tr>\n",
       "    <tr>\n",
       "      <th>4</th>\n",
       "      <td>boar</td>\n",
       "      <td>1</td>\n",
       "      <td>0</td>\n",
       "      <td>1</td>\n",
       "      <td>0</td>\n",
       "      <td>1</td>\n",
       "      <td>1</td>\n",
       "      <td>4</td>\n",
       "      <td>1</td>\n",
       "      <td>1</td>\n",
       "      <td>1</td>\n",
       "    </tr>\n",
       "    <tr>\n",
       "      <th>...</th>\n",
       "      <td>...</td>\n",
       "      <td>...</td>\n",
       "      <td>...</td>\n",
       "      <td>...</td>\n",
       "      <td>...</td>\n",
       "      <td>...</td>\n",
       "      <td>...</td>\n",
       "      <td>...</td>\n",
       "      <td>...</td>\n",
       "      <td>...</td>\n",
       "      <td>...</td>\n",
       "    </tr>\n",
       "    <tr>\n",
       "      <th>96</th>\n",
       "      <td>wallaby</td>\n",
       "      <td>1</td>\n",
       "      <td>0</td>\n",
       "      <td>1</td>\n",
       "      <td>0</td>\n",
       "      <td>0</td>\n",
       "      <td>1</td>\n",
       "      <td>2</td>\n",
       "      <td>1</td>\n",
       "      <td>1</td>\n",
       "      <td>1</td>\n",
       "    </tr>\n",
       "    <tr>\n",
       "      <th>97</th>\n",
       "      <td>wasp</td>\n",
       "      <td>1</td>\n",
       "      <td>1</td>\n",
       "      <td>0</td>\n",
       "      <td>0</td>\n",
       "      <td>0</td>\n",
       "      <td>0</td>\n",
       "      <td>6</td>\n",
       "      <td>0</td>\n",
       "      <td>0</td>\n",
       "      <td>6</td>\n",
       "    </tr>\n",
       "    <tr>\n",
       "      <th>98</th>\n",
       "      <td>wolf</td>\n",
       "      <td>1</td>\n",
       "      <td>0</td>\n",
       "      <td>1</td>\n",
       "      <td>0</td>\n",
       "      <td>1</td>\n",
       "      <td>1</td>\n",
       "      <td>4</td>\n",
       "      <td>1</td>\n",
       "      <td>1</td>\n",
       "      <td>1</td>\n",
       "    </tr>\n",
       "    <tr>\n",
       "      <th>99</th>\n",
       "      <td>worm</td>\n",
       "      <td>0</td>\n",
       "      <td>1</td>\n",
       "      <td>0</td>\n",
       "      <td>0</td>\n",
       "      <td>0</td>\n",
       "      <td>0</td>\n",
       "      <td>0</td>\n",
       "      <td>0</td>\n",
       "      <td>0</td>\n",
       "      <td>7</td>\n",
       "    </tr>\n",
       "    <tr>\n",
       "      <th>100</th>\n",
       "      <td>wren</td>\n",
       "      <td>0</td>\n",
       "      <td>1</td>\n",
       "      <td>0</td>\n",
       "      <td>0</td>\n",
       "      <td>0</td>\n",
       "      <td>0</td>\n",
       "      <td>2</td>\n",
       "      <td>1</td>\n",
       "      <td>0</td>\n",
       "      <td>2</td>\n",
       "    </tr>\n",
       "  </tbody>\n",
       "</table>\n",
       "<p>101 rows × 11 columns</p>\n",
       "</div>"
      ],
      "text/plain": [
       "    animal name  hair  eggs  milk  aquatic  predator  toothed  legs  tail  \\\n",
       "0      aardvark     1     0     1        0         1        1     4     0   \n",
       "1      antelope     1     0     1        0         0        1     4     1   \n",
       "2          bass     0     1     0        1         1        1     0     1   \n",
       "3          bear     1     0     1        0         1        1     4     0   \n",
       "4          boar     1     0     1        0         1        1     4     1   \n",
       "..          ...   ...   ...   ...      ...       ...      ...   ...   ...   \n",
       "96      wallaby     1     0     1        0         0        1     2     1   \n",
       "97         wasp     1     1     0        0         0        0     6     0   \n",
       "98         wolf     1     0     1        0         1        1     4     1   \n",
       "99         worm     0     1     0        0         0        0     0     0   \n",
       "100        wren     0     1     0        0         0        0     2     1   \n",
       "\n",
       "     catsize  type  \n",
       "0          1     1  \n",
       "1          1     1  \n",
       "2          0     4  \n",
       "3          1     1  \n",
       "4          1     1  \n",
       "..       ...   ...  \n",
       "96         1     1  \n",
       "97         0     6  \n",
       "98         1     1  \n",
       "99         0     7  \n",
       "100        0     2  \n",
       "\n",
       "[101 rows x 11 columns]"
      ]
     },
     "execution_count": 5,
     "metadata": {},
     "output_type": "execute_result"
    }
   ],
   "source": [
    "zoo"
   ]
  },
  {
   "cell_type": "code",
   "execution_count": 6,
   "metadata": {
    "colab": {
     "base_uri": "https://localhost:8080/"
    },
    "id": "Ns5Oq3Qs9Ufv",
    "outputId": "af17ea44-cbea-44a6-ffdc-5cfee8b341a0"
   },
   "outputs": [
    {
     "name": "stdout",
     "output_type": "stream",
     "text": [
      "<class 'pandas.core.frame.DataFrame'>\n",
      "RangeIndex: 101 entries, 0 to 100\n",
      "Data columns (total 11 columns):\n",
      " #   Column       Non-Null Count  Dtype \n",
      "---  ------       --------------  ----- \n",
      " 0   animal name  101 non-null    object\n",
      " 1   hair         101 non-null    int64 \n",
      " 2   eggs         101 non-null    int64 \n",
      " 3   milk         101 non-null    int64 \n",
      " 4   aquatic      101 non-null    int64 \n",
      " 5   predator     101 non-null    int64 \n",
      " 6   toothed      101 non-null    int64 \n",
      " 7   legs         101 non-null    int64 \n",
      " 8   tail         101 non-null    int64 \n",
      " 9   catsize      101 non-null    int64 \n",
      " 10  type         101 non-null    int64 \n",
      "dtypes: int64(10), object(1)\n",
      "memory usage: 8.8+ KB\n"
     ]
    }
   ],
   "source": [
    "zoo.info()"
   ]
  },
  {
   "cell_type": "code",
   "execution_count": 7,
   "metadata": {
    "colab": {
     "base_uri": "https://localhost:8080/"
    },
    "id": "4gSQyHTW88CZ",
    "outputId": "560ef916-d1d7-483e-ec7b-0bf3330aa138"
   },
   "outputs": [
    {
     "data": {
      "text/plain": [
       "1"
      ]
     },
     "execution_count": 7,
     "metadata": {},
     "output_type": "execute_result"
    }
   ],
   "source": [
    "zoo.duplicated().sum()"
   ]
  },
  {
   "cell_type": "code",
   "execution_count": 8,
   "metadata": {
    "id": "nSIGcoAS9FEq"
   },
   "outputs": [],
   "source": [
    "zoo.drop_duplicates(inplace=True)   #removed duplicated values"
   ]
  },
  {
   "cell_type": "code",
   "execution_count": 9,
   "metadata": {
    "colab": {
     "base_uri": "https://localhost:8080/"
    },
    "id": "aBScbiZw9KOY",
    "outputId": "6ddc0583-4113-4ac9-efa1-2226534691c4"
   },
   "outputs": [
    {
     "data": {
      "text/plain": [
       "animal name    0\n",
       "hair           0\n",
       "eggs           0\n",
       "milk           0\n",
       "aquatic        0\n",
       "predator       0\n",
       "toothed        0\n",
       "legs           0\n",
       "tail           0\n",
       "catsize        0\n",
       "type           0\n",
       "dtype: int64"
      ]
     },
     "execution_count": 9,
     "metadata": {},
     "output_type": "execute_result"
    }
   ],
   "source": [
    "zoo.isna().sum() #no null values"
   ]
  },
  {
   "cell_type": "code",
   "execution_count": 10,
   "metadata": {
    "colab": {
     "base_uri": "https://localhost:8080/",
     "height": 487
    },
    "id": "abFF0iRM9oN3",
    "outputId": "8a51ae32-ea19-4681-cbfc-e5f8702205e9"
   },
   "outputs": [
    {
     "data": {
      "image/png": "[encoded data removed]",
      "text/plain": [
       "<Figure size 640x480 with 12 Axes>"
      ]
     },
     "metadata": {},
     "output_type": "display_data"
    }
   ],
   "source": [
    "import matplotlib.pyplot as plt\n",
    "zoo.hist()\n",
    "plt.tight_layout()          #there are few outliers"
   ]
  },
  {
   "cell_type": "code",
   "execution_count": 11,
   "metadata": {
    "colab": {
     "base_uri": "https://localhost:8080/",
     "height": 448
    },
    "id": "v84kUrV791MV",
    "outputId": "64ecccf3-7079-4e67-a5af-ea166cadded4"
   },
   "outputs": [
    {
     "data": {
      "text/plain": [
       "<Axes: >"
      ]
     },
     "execution_count": 11,
     "metadata": {},
     "output_type": "execute_result"
    },
    {
     "data": {
      "image/png": "[encoded data removed]",
      "text/plain": [
       "<Figure size 640x480 with 1 Axes>"
      ]
     },
     "metadata": {},
     "output_type": "display_data"
    }
   ],
   "source": [
    "sns.boxplot(zoo)   #few outliers spotted"
   ]
  },
  {
   "cell_type": "code",
   "execution_count": 12,
   "metadata": {
    "colab": {
     "base_uri": "https://localhost:8080/",
     "height": 467
    },
    "id": "fLAprcff9-o2",
    "outputId": "ca6273d4-ec4a-4d40-90dd-d844a323cb64"
   },
   "outputs": [
    {
     "data": {
      "text/plain": [
       "<Axes: xlabel='legs'>"
      ]
     },
     "execution_count": 12,
     "metadata": {},
     "output_type": "execute_result"
    },
    {
     "data": {
      "image/png": "[encoded data removed]",
      "text/plain": [
       "<Figure size 640x480 with 1 Axes>"
      ]
     },
     "metadata": {},
     "output_type": "display_data"
    }
   ],
   "source": [
    "sns.boxplot(x=zoo['legs'])"
   ]
  },
  {
   "cell_type": "code",
   "execution_count": 13,
   "metadata": {
    "id": "J3zlyBwRE2_9"
   },
   "outputs": [],
   "source": [
    "def outlier_detection(data,colname):\n",
    "  q1 = data[colname].quantile(0.25)\n",
    "  q3 = data[colname].quantile(0.75)\n",
    "  iqr = q3 - q1\n",
    "\n",
    "  upper_extreme = q3 + (1.5 * iqr)\n",
    "  lower_extreme = q1 - (1.5 * iqr)\n",
    "\n",
    "  return lower_extreme, upper_extreme"
   ]
  },
  {
   "cell_type": "code",
   "execution_count": 14,
   "metadata": {
    "colab": {
     "base_uri": "https://localhost:8080/"
    },
    "id": "u-2ETO2aFDRy",
    "outputId": "a1a7ee42-bd4c-4a9c-8b78-8425ce5d017e"
   },
   "outputs": [
    {
     "data": {
      "text/plain": [
       "(legs   -1.000\n",
       " tail    0.375\n",
       " dtype: float64,\n",
       " legs    7.000\n",
       " tail    1.375\n",
       " dtype: float64)"
      ]
     },
     "execution_count": 14,
     "metadata": {},
     "output_type": "execute_result"
    }
   ],
   "source": [
    "outlier_detection(zoo,['legs','tail'])"
   ]
  },
  {
   "cell_type": "code",
   "execution_count": 15,
   "metadata": {
    "id": "Ub39XXKeFNyT"
   },
   "outputs": [
    {
     "name": "stderr",
     "output_type": "stream",
     "text": [
      "C:\\Users\\ACS\\AppData\\Local\\Temp\\ipykernel_18112\\2414411270.py:2: FutureWarning: Setting an item of incompatible dtype is deprecated and will raise an error in a future version of pandas. Value '0.375' has dtype incompatible with int64, please explicitly cast to a compatible dtype first.\n",
      "  zoo.loc[zoo['tail']<0.375,'tail'] = 0.375\n"
     ]
    }
   ],
   "source": [
    "zoo.loc[zoo['legs']>7.000,'legs'] = 7.000\n",
    "zoo.loc[zoo['tail']<0.375,'tail'] = 0.375"
   ]
  },
  {
   "cell_type": "code",
   "execution_count": 16,
   "metadata": {
    "colab": {
     "base_uri": "https://localhost:8080/",
     "height": 467
    },
    "id": "gwXwlXYOFtvq",
    "outputId": "f090b23a-269a-48fc-a640-cf11a56b80fa"
   },
   "outputs": [
    {
     "data": {
      "text/plain": [
       "<Axes: xlabel='legs'>"
      ]
     },
     "execution_count": 16,
     "metadata": {},
     "output_type": "execute_result"
    },
    {
     "data": {
      "image/png": "[encoded data removed]",
      "text/plain": [
       "<Figure size 640x480 with 1 Axes>"
      ]
     },
     "metadata": {},
     "output_type": "display_data"
    }
   ],
   "source": [
    "sns.boxplot(x=zoo['legs'])  #outliers treated"
   ]
  },
  {
   "cell_type": "code",
   "execution_count": 17,
   "metadata": {
    "colab": {
     "base_uri": "https://localhost:8080/",
     "height": 765
    },
    "id": "9NLuHz31GDFW",
    "outputId": "6b2877f6-78a7-4aaa-ef37-b925ee2eff06"
   },
   "outputs": [
    {
     "name": "stderr",
     "output_type": "stream",
     "text": [
      "C:\\ProgramData\\anaconda3\\Lib\\site-packages\\seaborn\\_oldcore.py:1119: FutureWarning: use_inf_as_na option is deprecated and will be removed in a future version. Convert inf values to NaN before operating instead.\n",
      "  with pd.option_context('mode.use_inf_as_na', True):\n",
      "C:\\ProgramData\\anaconda3\\Lib\\site-packages\\seaborn\\_oldcore.py:1119: FutureWarning: use_inf_as_na option is deprecated and will be removed in a future version. Convert inf values to NaN before operating instead.\n",
      "  with pd.option_context('mode.use_inf_as_na', True):\n",
      "C:\\ProgramData\\anaconda3\\Lib\\site-packages\\seaborn\\_oldcore.py:1119: FutureWarning: use_inf_as_na option is deprecated and will be removed in a future version. Convert inf values to NaN before operating instead.\n",
      "  with pd.option_context('mode.use_inf_as_na', True):\n",
      "C:\\ProgramData\\anaconda3\\Lib\\site-packages\\seaborn\\_oldcore.py:1119: FutureWarning: use_inf_as_na option is deprecated and will be removed in a future version. Convert inf values to NaN before operating instead.\n",
      "  with pd.option_context('mode.use_inf_as_na', True):\n",
      "C:\\ProgramData\\anaconda3\\Lib\\site-packages\\seaborn\\_oldcore.py:1119: FutureWarning: use_inf_as_na option is deprecated and will be removed in a future version. Convert inf values to NaN before operating instead.\n",
      "  with pd.option_context('mode.use_inf_as_na', True):\n",
      "C:\\ProgramData\\anaconda3\\Lib\\site-packages\\seaborn\\_oldcore.py:1119: FutureWarning: use_inf_as_na option is deprecated and will be removed in a future version. Convert inf values to NaN before operating instead.\n",
      "  with pd.option_context('mode.use_inf_as_na', True):\n",
      "C:\\ProgramData\\anaconda3\\Lib\\site-packages\\seaborn\\_oldcore.py:1119: FutureWarning: use_inf_as_na option is deprecated and will be removed in a future version. Convert inf values to NaN before operating instead.\n",
      "  with pd.option_context('mode.use_inf_as_na', True):\n",
      "C:\\ProgramData\\anaconda3\\Lib\\site-packages\\seaborn\\_oldcore.py:1119: FutureWarning: use_inf_as_na option is deprecated and will be removed in a future version. Convert inf values to NaN before operating instead.\n",
      "  with pd.option_context('mode.use_inf_as_na', True):\n",
      "C:\\ProgramData\\anaconda3\\Lib\\site-packages\\seaborn\\_oldcore.py:1119: FutureWarning: use_inf_as_na option is deprecated and will be removed in a future version. Convert inf values to NaN before operating instead.\n",
      "  with pd.option_context('mode.use_inf_as_na', True):\n",
      "C:\\ProgramData\\anaconda3\\Lib\\site-packages\\seaborn\\_oldcore.py:1119: FutureWarning: use_inf_as_na option is deprecated and will be removed in a future version. Convert inf values to NaN before operating instead.\n",
      "  with pd.option_context('mode.use_inf_as_na', True):\n"
     ]
    },
    {
     "data": {
      "text/plain": [
       "<seaborn.axisgrid.PairGrid at 0x212f355d1d0>"
      ]
     },
     "execution_count": 17,
     "metadata": {},
     "output_type": "execute_result"
    },
    {
     "data": {
      "image/png": "[encoded data removed]",
      "text/plain": [
       "<Figure size 2500x2500 with 110 Axes>"
      ]
     },
     "metadata": {},
     "output_type": "display_data"
    }
   ],
   "source": [
    "sns.pairplot(zoo)   #there is no specific pattern or relation. all points are on extreme"
   ]
  },
  {
   "cell_type": "code",
   "execution_count": 18,
   "metadata": {
    "colab": {
     "base_uri": "https://localhost:8080/",
     "height": 441
    },
    "id": "-sFT5BRtJ_eV",
    "outputId": "9d6e842b-b164-4661-9649-b086455e6540"
   },
   "outputs": [
    {
     "data": {
      "text/html": [
       "<div>\n",
       "<style scoped>\n",
       "    .dataframe tbody tr th:only-of-type {\n",
       "        vertical-align: middle;\n",
       "    }\n",
       "\n",
       "    .dataframe tbody tr th {\n",
       "        vertical-align: top;\n",
       "    }\n",
       "\n",
       "    .dataframe thead th {\n",
       "        text-align: right;\n",
       "    }\n",
       "</style>\n",
       "<table border=\"1\" class=\"dataframe\">\n",
       "  <thead>\n",
       "    <tr style=\"text-align: right;\">\n",
       "      <th></th>\n",
       "      <th>animal name</th>\n",
       "      <th>hair</th>\n",
       "      <th>eggs</th>\n",
       "      <th>milk</th>\n",
       "      <th>aquatic</th>\n",
       "      <th>predator</th>\n",
       "      <th>toothed</th>\n",
       "      <th>legs</th>\n",
       "      <th>tail</th>\n",
       "      <th>catsize</th>\n",
       "      <th>type</th>\n",
       "    </tr>\n",
       "  </thead>\n",
       "  <tbody>\n",
       "    <tr>\n",
       "      <th>0</th>\n",
       "      <td>0</td>\n",
       "      <td>1</td>\n",
       "      <td>0</td>\n",
       "      <td>1</td>\n",
       "      <td>0</td>\n",
       "      <td>1</td>\n",
       "      <td>1</td>\n",
       "      <td>4</td>\n",
       "      <td>0.375</td>\n",
       "      <td>1</td>\n",
       "      <td>1</td>\n",
       "    </tr>\n",
       "    <tr>\n",
       "      <th>1</th>\n",
       "      <td>1</td>\n",
       "      <td>1</td>\n",
       "      <td>0</td>\n",
       "      <td>1</td>\n",
       "      <td>0</td>\n",
       "      <td>0</td>\n",
       "      <td>1</td>\n",
       "      <td>4</td>\n",
       "      <td>1.000</td>\n",
       "      <td>1</td>\n",
       "      <td>1</td>\n",
       "    </tr>\n",
       "    <tr>\n",
       "      <th>2</th>\n",
       "      <td>2</td>\n",
       "      <td>0</td>\n",
       "      <td>1</td>\n",
       "      <td>0</td>\n",
       "      <td>1</td>\n",
       "      <td>1</td>\n",
       "      <td>1</td>\n",
       "      <td>0</td>\n",
       "      <td>1.000</td>\n",
       "      <td>0</td>\n",
       "      <td>4</td>\n",
       "    </tr>\n",
       "    <tr>\n",
       "      <th>3</th>\n",
       "      <td>3</td>\n",
       "      <td>1</td>\n",
       "      <td>0</td>\n",
       "      <td>1</td>\n",
       "      <td>0</td>\n",
       "      <td>1</td>\n",
       "      <td>1</td>\n",
       "      <td>4</td>\n",
       "      <td>0.375</td>\n",
       "      <td>1</td>\n",
       "      <td>1</td>\n",
       "    </tr>\n",
       "    <tr>\n",
       "      <th>4</th>\n",
       "      <td>4</td>\n",
       "      <td>1</td>\n",
       "      <td>0</td>\n",
       "      <td>1</td>\n",
       "      <td>0</td>\n",
       "      <td>1</td>\n",
       "      <td>1</td>\n",
       "      <td>4</td>\n",
       "      <td>1.000</td>\n",
       "      <td>1</td>\n",
       "      <td>1</td>\n",
       "    </tr>\n",
       "    <tr>\n",
       "      <th>...</th>\n",
       "      <td>...</td>\n",
       "      <td>...</td>\n",
       "      <td>...</td>\n",
       "      <td>...</td>\n",
       "      <td>...</td>\n",
       "      <td>...</td>\n",
       "      <td>...</td>\n",
       "      <td>...</td>\n",
       "      <td>...</td>\n",
       "      <td>...</td>\n",
       "      <td>...</td>\n",
       "    </tr>\n",
       "    <tr>\n",
       "      <th>96</th>\n",
       "      <td>95</td>\n",
       "      <td>1</td>\n",
       "      <td>0</td>\n",
       "      <td>1</td>\n",
       "      <td>0</td>\n",
       "      <td>0</td>\n",
       "      <td>1</td>\n",
       "      <td>2</td>\n",
       "      <td>1.000</td>\n",
       "      <td>1</td>\n",
       "      <td>1</td>\n",
       "    </tr>\n",
       "    <tr>\n",
       "      <th>97</th>\n",
       "      <td>96</td>\n",
       "      <td>1</td>\n",
       "      <td>1</td>\n",
       "      <td>0</td>\n",
       "      <td>0</td>\n",
       "      <td>0</td>\n",
       "      <td>0</td>\n",
       "      <td>6</td>\n",
       "      <td>0.375</td>\n",
       "      <td>0</td>\n",
       "      <td>6</td>\n",
       "    </tr>\n",
       "    <tr>\n",
       "      <th>98</th>\n",
       "      <td>97</td>\n",
       "      <td>1</td>\n",
       "      <td>0</td>\n",
       "      <td>1</td>\n",
       "      <td>0</td>\n",
       "      <td>1</td>\n",
       "      <td>1</td>\n",
       "      <td>4</td>\n",
       "      <td>1.000</td>\n",
       "      <td>1</td>\n",
       "      <td>1</td>\n",
       "    </tr>\n",
       "    <tr>\n",
       "      <th>99</th>\n",
       "      <td>98</td>\n",
       "      <td>0</td>\n",
       "      <td>1</td>\n",
       "      <td>0</td>\n",
       "      <td>0</td>\n",
       "      <td>0</td>\n",
       "      <td>0</td>\n",
       "      <td>0</td>\n",
       "      <td>0.375</td>\n",
       "      <td>0</td>\n",
       "      <td>7</td>\n",
       "    </tr>\n",
       "    <tr>\n",
       "      <th>100</th>\n",
       "      <td>99</td>\n",
       "      <td>0</td>\n",
       "      <td>1</td>\n",
       "      <td>0</td>\n",
       "      <td>0</td>\n",
       "      <td>0</td>\n",
       "      <td>0</td>\n",
       "      <td>2</td>\n",
       "      <td>1.000</td>\n",
       "      <td>0</td>\n",
       "      <td>2</td>\n",
       "    </tr>\n",
       "  </tbody>\n",
       "</table>\n",
       "<p>100 rows × 11 columns</p>\n",
       "</div>"
      ],
      "text/plain": [
       "     animal name  hair  eggs  milk  aquatic  predator  toothed  legs   tail  \\\n",
       "0              0     1     0     1        0         1        1     4  0.375   \n",
       "1              1     1     0     1        0         0        1     4  1.000   \n",
       "2              2     0     1     0        1         1        1     0  1.000   \n",
       "3              3     1     0     1        0         1        1     4  0.375   \n",
       "4              4     1     0     1        0         1        1     4  1.000   \n",
       "..           ...   ...   ...   ...      ...       ...      ...   ...    ...   \n",
       "96            95     1     0     1        0         0        1     2  1.000   \n",
       "97            96     1     1     0        0         0        0     6  0.375   \n",
       "98            97     1     0     1        0         1        1     4  1.000   \n",
       "99            98     0     1     0        0         0        0     0  0.375   \n",
       "100           99     0     1     0        0         0        0     2  1.000   \n",
       "\n",
       "     catsize  type  \n",
       "0          1     1  \n",
       "1          1     1  \n",
       "2          0     4  \n",
       "3          1     1  \n",
       "4          1     1  \n",
       "..       ...   ...  \n",
       "96         1     1  \n",
       "97         0     6  \n",
       "98         1     1  \n",
       "99         0     7  \n",
       "100        0     2  \n",
       "\n",
       "[100 rows x 11 columns]"
      ]
     },
     "execution_count": 18,
     "metadata": {},
     "output_type": "execute_result"
    }
   ],
   "source": [
    "from sklearn.preprocessing import LabelEncoder   #encoded animal name\n",
    "le = LabelEncoder()\n",
    "zoo['animal name'] = le.fit_transform(zoo['animal name'])\n",
    "zoo\n"
   ]
  },
  {
   "cell_type": "code",
   "execution_count": 19,
   "metadata": {
    "id": "Z6PoJk0VLFD5"
   },
   "outputs": [],
   "source": [
    "array =  zoo.values\n",
    "X = array[:,0:10]\n",
    "Y = array[:,10]"
   ]
  },
  {
   "cell_type": "code",
   "execution_count": 20,
   "metadata": {
    "id": "gAF7gPuTOBMa"
   },
   "outputs": [],
   "source": [
    "#apply minmax scaling\n",
    "X=(X-X.min())/(X.max())-X.min()"
   ]
  },
  {
   "cell_type": "code",
   "execution_count": 21,
   "metadata": {
    "colab": {
     "base_uri": "https://localhost:8080/"
    },
    "id": "Sk8eOG4WOCiB",
    "outputId": "bdd2cd22-b549-4641-884f-59c60bbd823f"
   },
   "outputs": [
    {
     "data": {
      "text/plain": [
       "array([[0.        , 0.01010101, 0.        , 0.01010101, 0.        ,\n",
       "        0.01010101, 0.01010101, 0.04040404, 0.00378788, 0.01010101],\n",
       "       [0.01010101, 0.01010101, 0.        , 0.01010101, 0.        ,\n",
       "        0.        , 0.01010101, 0.04040404, 0.01010101, 0.01010101],\n",
       "       [0.02020202, 0.        , 0.01010101, 0.        , 0.01010101,\n",
       "        0.01010101, 0.01010101, 0.        , 0.01010101, 0.        ],\n",
       "       [0.03030303, 0.01010101, 0.        , 0.01010101, 0.        ,\n",
       "        0.01010101, 0.01010101, 0.04040404, 0.00378788, 0.01010101],\n",
       "       [0.04040404, 0.01010101, 0.        , 0.01010101, 0.        ,\n",
       "        0.01010101, 0.01010101, 0.04040404, 0.01010101, 0.01010101],\n",
       "       [0.05050505, 0.01010101, 0.        , 0.01010101, 0.        ,\n",
       "        0.        , 0.01010101, 0.04040404, 0.01010101, 0.01010101],\n",
       "       [0.06060606, 0.01010101, 0.        , 0.01010101, 0.        ,\n",
       "        0.        , 0.01010101, 0.04040404, 0.01010101, 0.01010101],\n",
       "       [0.07070707, 0.        , 0.01010101, 0.        , 0.01010101,\n",
       "        0.        , 0.01010101, 0.        , 0.01010101, 0.        ],\n",
       "       [0.08080808, 0.        , 0.01010101, 0.        , 0.01010101,\n",
       "        0.01010101, 0.01010101, 0.        , 0.01010101, 0.        ],\n",
       "       [0.09090909, 0.01010101, 0.        , 0.01010101, 0.        ,\n",
       "        0.        , 0.01010101, 0.04040404, 0.00378788, 0.        ],\n",
       "       [0.1010101 , 0.01010101, 0.        , 0.01010101, 0.        ,\n",
       "        0.01010101, 0.01010101, 0.04040404, 0.01010101, 0.01010101],\n",
       "       [0.11111111, 0.        , 0.01010101, 0.        , 0.        ,\n",
       "        0.        , 0.        , 0.02020202, 0.01010101, 0.        ],\n",
       "       [0.12121212, 0.        , 0.01010101, 0.        , 0.01010101,\n",
       "        0.01010101, 0.01010101, 0.        , 0.01010101, 0.        ],\n",
       "       [0.13131313, 0.        , 0.01010101, 0.        , 0.        ,\n",
       "        0.01010101, 0.        , 0.        , 0.00378788, 0.        ],\n",
       "       [0.14141414, 0.        , 0.01010101, 0.        , 0.01010101,\n",
       "        0.01010101, 0.        , 0.04040404, 0.00378788, 0.        ],\n",
       "       [0.15151515, 0.        , 0.01010101, 0.        , 0.01010101,\n",
       "        0.01010101, 0.        , 0.06060606, 0.00378788, 0.        ],\n",
       "       [0.16161616, 0.        , 0.01010101, 0.        , 0.        ,\n",
       "        0.01010101, 0.        , 0.02020202, 0.01010101, 0.        ],\n",
       "       [0.17171717, 0.01010101, 0.        , 0.01010101, 0.        ,\n",
       "        0.        , 0.01010101, 0.04040404, 0.01010101, 0.01010101],\n",
       "       [0.18181818, 0.        , 0.01010101, 0.        , 0.01010101,\n",
       "        0.01010101, 0.01010101, 0.        , 0.01010101, 0.01010101],\n",
       "       [0.19191919, 0.        , 0.        , 0.01010101, 0.01010101,\n",
       "        0.01010101, 0.01010101, 0.        , 0.01010101, 0.01010101],\n",
       "       [0.2020202 , 0.        , 0.01010101, 0.        , 0.        ,\n",
       "        0.        , 0.        , 0.02020202, 0.01010101, 0.        ],\n",
       "       [0.21212121, 0.        , 0.01010101, 0.        , 0.01010101,\n",
       "        0.        , 0.        , 0.02020202, 0.01010101, 0.        ],\n",
       "       [0.22222222, 0.01010101, 0.        , 0.01010101, 0.        ,\n",
       "        0.        , 0.01010101, 0.04040404, 0.01010101, 0.01010101],\n",
       "       [0.23232323, 0.        , 0.01010101, 0.        , 0.        ,\n",
       "        0.        , 0.        , 0.02020202, 0.01010101, 0.01010101],\n",
       "       [0.24242424, 0.        , 0.01010101, 0.        , 0.        ,\n",
       "        0.        , 0.        , 0.06060606, 0.00378788, 0.        ],\n",
       "       [0.25252525, 0.        , 0.01010101, 0.        , 0.01010101,\n",
       "        0.01010101, 0.01010101, 0.04040404, 0.00378788, 0.        ],\n",
       "       [0.26262626, 0.01010101, 0.        , 0.01010101, 0.        ,\n",
       "        0.        , 0.01010101, 0.02020202, 0.01010101, 0.        ],\n",
       "       [0.27272727, 0.01010101, 0.        , 0.01010101, 0.        ,\n",
       "        0.        , 0.01010101, 0.04040404, 0.01010101, 0.01010101],\n",
       "       [0.28282828, 0.01010101, 0.        , 0.01010101, 0.        ,\n",
       "        0.01010101, 0.01010101, 0.02020202, 0.00378788, 0.01010101],\n",
       "       [0.29292929, 0.        , 0.01010101, 0.        , 0.        ,\n",
       "        0.        , 0.        , 0.06060606, 0.00378788, 0.        ],\n",
       "       [0.3030303 , 0.01010101, 0.        , 0.01010101, 0.        ,\n",
       "        0.        , 0.01010101, 0.04040404, 0.01010101, 0.01010101],\n",
       "       [0.31313131, 0.01010101, 0.        , 0.01010101, 0.        ,\n",
       "        0.        , 0.01010101, 0.02020202, 0.00378788, 0.01010101],\n",
       "       [0.32323232, 0.        , 0.01010101, 0.        , 0.01010101,\n",
       "        0.01010101, 0.        , 0.02020202, 0.01010101, 0.        ],\n",
       "       [0.33333333, 0.        , 0.01010101, 0.        , 0.01010101,\n",
       "        0.        , 0.01010101, 0.        , 0.01010101, 0.        ],\n",
       "       [0.34343434, 0.01010101, 0.        , 0.01010101, 0.        ,\n",
       "        0.        , 0.01010101, 0.04040404, 0.01010101, 0.        ],\n",
       "       [0.35353535, 0.01010101, 0.        , 0.01010101, 0.        ,\n",
       "        0.        , 0.01010101, 0.04040404, 0.01010101, 0.        ],\n",
       "       [0.36363636, 0.        , 0.01010101, 0.        , 0.        ,\n",
       "        0.01010101, 0.        , 0.02020202, 0.01010101, 0.        ],\n",
       "       [0.37373737, 0.        , 0.01010101, 0.        , 0.01010101,\n",
       "        0.01010101, 0.01010101, 0.        , 0.01010101, 0.        ],\n",
       "       [0.38383838, 0.01010101, 0.01010101, 0.        , 0.        ,\n",
       "        0.        , 0.        , 0.06060606, 0.00378788, 0.        ],\n",
       "       [0.39393939, 0.01010101, 0.01010101, 0.        , 0.        ,\n",
       "        0.        , 0.        , 0.06060606, 0.00378788, 0.        ],\n",
       "       [0.4040404 , 0.        , 0.01010101, 0.        , 0.        ,\n",
       "        0.01010101, 0.        , 0.02020202, 0.01010101, 0.        ],\n",
       "       [0.41414141, 0.        , 0.01010101, 0.        , 0.        ,\n",
       "        0.01010101, 0.        , 0.06060606, 0.00378788, 0.        ],\n",
       "       [0.42424242, 0.        , 0.01010101, 0.        , 0.        ,\n",
       "        0.        , 0.        , 0.02020202, 0.01010101, 0.        ],\n",
       "       [0.43434343, 0.01010101, 0.        , 0.01010101, 0.        ,\n",
       "        0.01010101, 0.01010101, 0.04040404, 0.01010101, 0.01010101],\n",
       "       [0.44444444, 0.01010101, 0.        , 0.01010101, 0.        ,\n",
       "        0.01010101, 0.01010101, 0.04040404, 0.01010101, 0.01010101],\n",
       "       [0.45454545, 0.        , 0.01010101, 0.        , 0.01010101,\n",
       "        0.01010101, 0.        , 0.06060606, 0.00378788, 0.        ],\n",
       "       [0.46464646, 0.01010101, 0.        , 0.01010101, 0.        ,\n",
       "        0.01010101, 0.01010101, 0.04040404, 0.01010101, 0.01010101],\n",
       "       [0.47474747, 0.01010101, 0.        , 0.01010101, 0.01010101,\n",
       "        0.01010101, 0.01010101, 0.04040404, 0.01010101, 0.01010101],\n",
       "       [0.48484848, 0.01010101, 0.        , 0.01010101, 0.        ,\n",
       "        0.01010101, 0.01010101, 0.04040404, 0.01010101, 0.        ],\n",
       "       [0.49494949, 0.01010101, 0.        , 0.01010101, 0.        ,\n",
       "        0.01010101, 0.01010101, 0.04040404, 0.01010101, 0.01010101],\n",
       "       [0.50505051, 0.01010101, 0.01010101, 0.        , 0.        ,\n",
       "        0.        , 0.        , 0.06060606, 0.00378788, 0.        ],\n",
       "       [0.51515152, 0.        , 0.01010101, 0.        , 0.01010101,\n",
       "        0.01010101, 0.01010101, 0.04040404, 0.01010101, 0.        ],\n",
       "       [0.52525253, 0.        , 0.01010101, 0.        , 0.01010101,\n",
       "        0.01010101, 0.        , 0.07070707, 0.00378788, 0.01010101],\n",
       "       [0.53535354, 0.01010101, 0.        , 0.01010101, 0.        ,\n",
       "        0.01010101, 0.01010101, 0.04040404, 0.01010101, 0.        ],\n",
       "       [0.54545455, 0.01010101, 0.        , 0.01010101, 0.        ,\n",
       "        0.        , 0.01010101, 0.04040404, 0.01010101, 0.01010101],\n",
       "       [0.55555556, 0.        , 0.01010101, 0.        , 0.        ,\n",
       "        0.        , 0.        , 0.02020202, 0.01010101, 0.01010101],\n",
       "       [0.56565657, 0.        , 0.01010101, 0.        , 0.        ,\n",
       "        0.        , 0.        , 0.02020202, 0.01010101, 0.        ],\n",
       "       [0.57575758, 0.        , 0.01010101, 0.        , 0.01010101,\n",
       "        0.01010101, 0.        , 0.02020202, 0.01010101, 0.01010101],\n",
       "       [0.58585859, 0.        , 0.01010101, 0.        , 0.        ,\n",
       "        0.        , 0.        , 0.02020202, 0.01010101, 0.        ],\n",
       "       [0.5959596 , 0.        , 0.01010101, 0.        , 0.01010101,\n",
       "        0.01010101, 0.01010101, 0.        , 0.01010101, 0.01010101],\n",
       "       [0.60606061, 0.        , 0.01010101, 0.        , 0.01010101,\n",
       "        0.01010101, 0.01010101, 0.        , 0.01010101, 0.        ],\n",
       "       [0.61616162, 0.        , 0.01010101, 0.        , 0.        ,\n",
       "        0.01010101, 0.01010101, 0.        , 0.01010101, 0.        ],\n",
       "       [0.62626263, 0.01010101, 0.01010101, 0.01010101, 0.01010101,\n",
       "        0.01010101, 0.        , 0.04040404, 0.01010101, 0.01010101],\n",
       "       [0.63636364, 0.01010101, 0.        , 0.01010101, 0.        ,\n",
       "        0.01010101, 0.01010101, 0.04040404, 0.01010101, 0.01010101],\n",
       "       [0.64646465, 0.01010101, 0.        , 0.01010101, 0.        ,\n",
       "        0.        , 0.01010101, 0.04040404, 0.01010101, 0.01010101],\n",
       "       [0.65656566, 0.        , 0.        , 0.01010101, 0.01010101,\n",
       "        0.01010101, 0.01010101, 0.        , 0.01010101, 0.01010101],\n",
       "       [0.66666667, 0.01010101, 0.        , 0.01010101, 0.        ,\n",
       "        0.01010101, 0.01010101, 0.04040404, 0.01010101, 0.01010101],\n",
       "       [0.67676768, 0.01010101, 0.        , 0.01010101, 0.        ,\n",
       "        0.01010101, 0.01010101, 0.04040404, 0.01010101, 0.01010101],\n",
       "       [0.68686869, 0.01010101, 0.        , 0.01010101, 0.        ,\n",
       "        0.01010101, 0.01010101, 0.04040404, 0.01010101, 0.01010101],\n",
       "       [0.6969697 , 0.01010101, 0.        , 0.01010101, 0.        ,\n",
       "        0.        , 0.01010101, 0.04040404, 0.01010101, 0.01010101],\n",
       "       [0.70707071, 0.        , 0.01010101, 0.        , 0.        ,\n",
       "        0.01010101, 0.        , 0.02020202, 0.01010101, 0.01010101],\n",
       "       [0.71717172, 0.        , 0.        , 0.        , 0.        ,\n",
       "        0.01010101, 0.        , 0.07070707, 0.01010101, 0.        ],\n",
       "       [0.72727273, 0.        , 0.01010101, 0.        , 0.01010101,\n",
       "        0.        , 0.01010101, 0.        , 0.01010101, 0.        ],\n",
       "       [0.73737374, 0.01010101, 0.        , 0.01010101, 0.01010101,\n",
       "        0.01010101, 0.01010101, 0.        , 0.00378788, 0.01010101],\n",
       "       [0.74747475, 0.01010101, 0.        , 0.01010101, 0.01010101,\n",
       "        0.01010101, 0.01010101, 0.02020202, 0.01010101, 0.01010101],\n",
       "       [0.75757576, 0.        , 0.        , 0.        , 0.01010101,\n",
       "        0.01010101, 0.01010101, 0.        , 0.01010101, 0.        ],\n",
       "       [0.76767677, 0.        , 0.01010101, 0.        , 0.01010101,\n",
       "        0.01010101, 0.        , 0.        , 0.00378788, 0.        ],\n",
       "       [0.77777778, 0.        , 0.01010101, 0.        , 0.01010101,\n",
       "        0.01010101, 0.        , 0.02020202, 0.01010101, 0.        ],\n",
       "       [0.78787879, 0.        , 0.01010101, 0.        , 0.01010101,\n",
       "        0.01010101, 0.        , 0.02020202, 0.01010101, 0.        ],\n",
       "       [0.7979798 , 0.        , 0.01010101, 0.        , 0.        ,\n",
       "        0.01010101, 0.01010101, 0.        , 0.01010101, 0.        ],\n",
       "       [0.80808081, 0.        , 0.01010101, 0.        , 0.        ,\n",
       "        0.        , 0.        , 0.        , 0.00378788, 0.        ],\n",
       "       [0.81818182, 0.        , 0.01010101, 0.        , 0.01010101,\n",
       "        0.        , 0.01010101, 0.        , 0.01010101, 0.        ],\n",
       "       [0.82828283, 0.        , 0.01010101, 0.        , 0.        ,\n",
       "        0.        , 0.        , 0.02020202, 0.01010101, 0.        ],\n",
       "       [0.83838384, 0.01010101, 0.        , 0.01010101, 0.        ,\n",
       "        0.        , 0.01010101, 0.02020202, 0.01010101, 0.        ],\n",
       "       [0.84848485, 0.        , 0.01010101, 0.        , 0.01010101,\n",
       "        0.01010101, 0.        , 0.05050505, 0.00378788, 0.        ],\n",
       "       [0.85858586, 0.        , 0.01010101, 0.        , 0.01010101,\n",
       "        0.01010101, 0.01010101, 0.        , 0.01010101, 0.01010101],\n",
       "       [0.86868687, 0.        , 0.01010101, 0.        , 0.01010101,\n",
       "        0.        , 0.        , 0.02020202, 0.01010101, 0.01010101],\n",
       "       [0.87878788, 0.        , 0.01010101, 0.        , 0.        ,\n",
       "        0.        , 0.        , 0.06060606, 0.00378788, 0.        ],\n",
       "       [0.88888889, 0.        , 0.01010101, 0.        , 0.01010101,\n",
       "        0.        , 0.01010101, 0.04040404, 0.00378788, 0.        ],\n",
       "       [0.8989899 , 0.        , 0.01010101, 0.        , 0.        ,\n",
       "        0.        , 0.        , 0.04040404, 0.01010101, 0.01010101],\n",
       "       [0.90909091, 0.        , 0.01010101, 0.        , 0.        ,\n",
       "        0.01010101, 0.01010101, 0.04040404, 0.01010101, 0.        ],\n",
       "       [0.91919192, 0.        , 0.01010101, 0.        , 0.01010101,\n",
       "        0.01010101, 0.01010101, 0.        , 0.01010101, 0.01010101],\n",
       "       [0.92929293, 0.01010101, 0.        , 0.01010101, 0.        ,\n",
       "        0.        , 0.01010101, 0.02020202, 0.01010101, 0.        ],\n",
       "       [0.93939394, 0.01010101, 0.        , 0.01010101, 0.        ,\n",
       "        0.        , 0.01010101, 0.04040404, 0.01010101, 0.        ],\n",
       "       [0.94949495, 0.        , 0.01010101, 0.        , 0.        ,\n",
       "        0.01010101, 0.        , 0.02020202, 0.01010101, 0.01010101],\n",
       "       [0.95959596, 0.01010101, 0.        , 0.01010101, 0.        ,\n",
       "        0.        , 0.01010101, 0.02020202, 0.01010101, 0.01010101],\n",
       "       [0.96969697, 0.01010101, 0.01010101, 0.        , 0.        ,\n",
       "        0.        , 0.        , 0.06060606, 0.00378788, 0.        ],\n",
       "       [0.97979798, 0.01010101, 0.        , 0.01010101, 0.        ,\n",
       "        0.01010101, 0.01010101, 0.04040404, 0.01010101, 0.01010101],\n",
       "       [0.98989899, 0.        , 0.01010101, 0.        , 0.        ,\n",
       "        0.        , 0.        , 0.        , 0.00378788, 0.        ],\n",
       "       [1.        , 0.        , 0.01010101, 0.        , 0.        ,\n",
       "        0.        , 0.        , 0.02020202, 0.01010101, 0.        ]])"
      ]
     },
     "execution_count": 21,
     "metadata": {},
     "output_type": "execute_result"
    }
   ],
   "source": [
    "X"
   ]
  },
  {
   "cell_type": "code",
   "execution_count": 22,
   "metadata": {
    "id": "VNumfJ-mOQvV"
   },
   "outputs": [],
   "source": [
    "num_folds = 10\n",
    "kfold = KFold(n_splits = num_folds)"
   ]
  },
  {
   "cell_type": "code",
   "execution_count": 23,
   "metadata": {
    "colab": {
     "base_uri": "https://localhost:8080/"
    },
    "id": "FmIlIkMkOpfr",
    "outputId": "81ee2ce2-187b-4664-eb86-a75193b860c8"
   },
   "outputs": [
    {
     "name": "stdout",
     "output_type": "stream",
     "text": [
      "              precision    recall  f1-score   support\n",
      "\n",
      "         1.0       0.26      1.00      0.42         5\n",
      "         2.0       0.00      0.00      0.00         5\n",
      "         3.0       0.00      0.00      0.00         0\n",
      "         4.0       0.00      0.00      0.00         4\n",
      "         5.0       0.00      0.00      0.00         1\n",
      "         7.0       0.00      0.00      0.00         5\n",
      "\n",
      "    accuracy                           0.25        20\n",
      "   macro avg       0.04      0.17      0.07        20\n",
      "weighted avg       0.07      0.25      0.10        20\n",
      "\n",
      "Train Accuracy : 0.45\n",
      "Test Accuracy: 0.25\n"
     ]
    },
    {
     "name": "stderr",
     "output_type": "stream",
     "text": [
      "C:\\ProgramData\\anaconda3\\Lib\\site-packages\\sklearn\\metrics\\_classification.py:1344: UndefinedMetricWarning: Precision and F-score are ill-defined and being set to 0.0 in labels with no predicted samples. Use `zero_division` parameter to control this behavior.\n",
      "  _warn_prf(average, modifier, msg_start, len(result))\n",
      "C:\\ProgramData\\anaconda3\\Lib\\site-packages\\sklearn\\metrics\\_classification.py:1344: UndefinedMetricWarning: Recall and F-score are ill-defined and being set to 0.0 in labels with no true samples. Use `zero_division` parameter to control this behavior.\n",
      "  _warn_prf(average, modifier, msg_start, len(result))\n",
      "C:\\ProgramData\\anaconda3\\Lib\\site-packages\\sklearn\\metrics\\_classification.py:1344: UndefinedMetricWarning: Precision and F-score are ill-defined and being set to 0.0 in labels with no predicted samples. Use `zero_division` parameter to control this behavior.\n",
      "  _warn_prf(average, modifier, msg_start, len(result))\n",
      "C:\\ProgramData\\anaconda3\\Lib\\site-packages\\sklearn\\metrics\\_classification.py:1344: UndefinedMetricWarning: Recall and F-score are ill-defined and being set to 0.0 in labels with no true samples. Use `zero_division` parameter to control this behavior.\n",
      "  _warn_prf(average, modifier, msg_start, len(result))\n",
      "C:\\ProgramData\\anaconda3\\Lib\\site-packages\\sklearn\\metrics\\_classification.py:1344: UndefinedMetricWarning: Precision and F-score are ill-defined and being set to 0.0 in labels with no predicted samples. Use `zero_division` parameter to control this behavior.\n",
      "  _warn_prf(average, modifier, msg_start, len(result))\n",
      "C:\\ProgramData\\anaconda3\\Lib\\site-packages\\sklearn\\metrics\\_classification.py:1344: UndefinedMetricWarning: Recall and F-score are ill-defined and being set to 0.0 in labels with no true samples. Use `zero_division` parameter to control this behavior.\n",
      "  _warn_prf(average, modifier, msg_start, len(result))\n"
     ]
    }
   ],
   "source": [
    "from sklearn.model_selection import train_test_split ,GridSearchCV\n",
    "from sklearn.metrics import classification_report\n",
    "\n",
    "X_train, X_test, Y_train, Y_test = train_test_split(X, Y, test_size=0.2, random_state=7)\n",
    "model = KNeighborsClassifier(n_neighbors=17)\n",
    "model.fit(X_train,Y_train)\n",
    "ypred = model.predict(X_test)\n",
    "print(classification_report(Y_test , ypred))\n",
    "print('Train Accuracy :',model.score(X_train,Y_train))\n",
    "print('Test Accuracy:', model.score(X_test,Y_test))"
   ]
  },
  {
   "cell_type": "markdown",
   "metadata": {
    "id": "eLveoJvJRex4"
   },
   "source": [
    "**Grid Search Algorithm for Hyperparameter Tuning **"
   ]
  },
  {
   "cell_type": "code",
   "execution_count": 24,
   "metadata": {
    "id": "VyduhIQ2RGpm"
   },
   "outputs": [],
   "source": [
    "#Grid Search algorithm Tuning\n",
    "\n",
    "from sklearn.neighbors import KNeighborsClassifier\n",
    "from sklearn.model_selection import GridSearchCV"
   ]
  },
  {
   "cell_type": "code",
   "execution_count": 25,
   "metadata": {
    "id": "fm3F37onR6U-"
   },
   "outputs": [],
   "source": [
    "#n_neighbors = np.array(range(1,40)) # k=1 to 39 all numbers even and odd will be considered\n",
    "n_neighbors = np.array([2*i+i for i in range(0,20)]) #only odd number of clusters (1 3 5 7 ... 39) will be considered\n",
    "param_grid = dict(n_neighbors = n_neighbors)"
   ]
  },
  {
   "cell_type": "code",
   "execution_count": 26,
   "metadata": {
    "colab": {
     "base_uri": "https://localhost:8080/"
    },
    "id": "UOswK708UUlj",
    "outputId": "cf24fb3a-1232-42fa-a3f9-b1b42102a0be"
   },
   "outputs": [
    {
     "data": {
      "text/plain": [
       "{'n_neighbors': array([ 0,  3,  6,  9, 12, 15, 18, 21, 24, 27, 30, 33, 36, 39, 42, 45, 48,\n",
       "        51, 54, 57])}"
      ]
     },
     "execution_count": 26,
     "metadata": {},
     "output_type": "execute_result"
    }
   ],
   "source": [
    "param_grid"
   ]
  },
  {
   "cell_type": "code",
   "execution_count": 27,
   "metadata": {
    "colab": {
     "base_uri": "https://localhost:8080/"
    },
    "id": "OGqEdfe7UWwS",
    "outputId": "52cf4924-13f7-4b46-fce1-8bffac981866"
   },
   "outputs": [
    {
     "data": {
      "text/plain": [
       "array([ 0,  3,  6,  9, 12, 15, 18, 21, 24, 27, 30, 33, 36, 39, 42, 45, 48,\n",
       "       51, 54, 57])"
      ]
     },
     "execution_count": 27,
     "metadata": {},
     "output_type": "execute_result"
    }
   ],
   "source": [
    "n_neighbors"
   ]
  },
  {
   "cell_type": "code",
   "execution_count": 28,
   "metadata": {
    "colab": {
     "base_uri": "https://localhost:8080/",
     "height": 593
    },
    "id": "4zSPtNr1UYz0",
    "outputId": "df83c5b3-6cb5-4956-f541-c2152049cb7c"
   },
   "outputs": [
    {
     "name": "stderr",
     "output_type": "stream",
     "text": [
      "C:\\ProgramData\\anaconda3\\Lib\\site-packages\\sklearn\\model_selection\\_split.py:700: UserWarning: The least populated class in y has only 2 members, which is less than n_splits=5.\n",
      "  warnings.warn(\n",
      "C:\\ProgramData\\anaconda3\\Lib\\site-packages\\sklearn\\model_selection\\_validation.py:378: FitFailedWarning: \n",
      "5 fits failed out of a total of 100.\n",
      "The score on these train-test partitions for these parameters will be set to nan.\n",
      "If these failures are not expected, you can try to debug them by setting error_score='raise'.\n",
      "\n",
      "Below are more details about the failures:\n",
      "--------------------------------------------------------------------------------\n",
      "5 fits failed with the following error:\n",
      "Traceback (most recent call last):\n",
      "  File \"C:\\ProgramData\\anaconda3\\Lib\\site-packages\\sklearn\\model_selection\\_validation.py\", line 686, in _fit_and_score\n",
      "    estimator.fit(X_train, y_train, **fit_params)\n",
      "  File \"C:\\ProgramData\\anaconda3\\Lib\\site-packages\\sklearn\\neighbors\\_classification.py\", line 213, in fit\n",
      "    self._validate_params()\n",
      "  File \"C:\\ProgramData\\anaconda3\\Lib\\site-packages\\sklearn\\base.py\", line 600, in _validate_params\n",
      "    validate_parameter_constraints(\n",
      "  File \"C:\\ProgramData\\anaconda3\\Lib\\site-packages\\sklearn\\utils\\_param_validation.py\", line 97, in validate_parameter_constraints\n",
      "    raise InvalidParameterError(\n",
      "sklearn.utils._param_validation.InvalidParameterError: The 'n_neighbors' parameter of KNeighborsClassifier must be an int in the range [1, inf) or None. Got 0 instead.\n",
      "\n",
      "  warnings.warn(some_fits_failed_message, FitFailedWarning)\n",
      "C:\\ProgramData\\anaconda3\\Lib\\site-packages\\sklearn\\model_selection\\_search.py:952: UserWarning: One or more of the test scores are non-finite: [   nan 0.45   0.4125 0.425  0.425  0.4125 0.4375 0.45   0.45   0.45\n",
      " 0.45   0.45   0.45   0.45   0.45   0.45   0.45   0.45   0.45   0.45  ]\n",
      "  warnings.warn(\n"
     ]
    },
    {
     "data": {
      "text/html": [
       "<style>#sk-container-id-1 {color: black;background-color: white;}#sk-container-id-1 pre{padding: 0;}#sk-container-id-1 div.sk-toggleable {background-color: white;}#sk-container-id-1 label.sk-toggleable__label {cursor: pointer;display: block;width: 100%;margin-bottom: 0;padding: 0.3em;box-sizing: border-box;text-align: center;}#sk-container-id-1 label.sk-toggleable__label-arrow:before {content: \"▸\";float: left;margin-right: 0.25em;color: #696969;}#sk-container-id-1 label.sk-toggleable__label-arrow:hover:before {color: black;}#sk-container-id-1 div.sk-estimator:hover label.sk-toggleable__label-arrow:before {color: black;}#sk-container-id-1 div.sk-toggleable__content {max-height: 0;max-width: 0;overflow: hidden;text-align: left;background-color: #f0f8ff;}#sk-container-id-1 div.sk-toggleable__content pre {margin: 0.2em;color: black;border-radius: 0.25em;background-color: #f0f8ff;}#sk-container-id-1 input.sk-toggleable__control:checked~div.sk-toggleable__content {max-height: 200px;max-width: 100%;overflow: auto;}#sk-container-id-1 input.sk-toggleable__control:checked~label.sk-toggleable__label-arrow:before {content: \"▾\";}#sk-container-id-1 div.sk-estimator input.sk-toggleable__control:checked~label.sk-toggleable__label {background-color: #d4ebff;}#sk-container-id-1 div.sk-label input.sk-toggleable__control:checked~label.sk-toggleable__label {background-color: #d4ebff;}#sk-container-id-1 input.sk-hidden--visually {border: 0;clip: rect(1px 1px 1px 1px);clip: rect(1px, 1px, 1px, 1px);height: 1px;margin: -1px;overflow: hidden;padding: 0;position: absolute;width: 1px;}#sk-container-id-1 div.sk-estimator {font-family: monospace;background-color: #f0f8ff;border: 1px dotted black;border-radius: 0.25em;box-sizing: border-box;margin-bottom: 0.5em;}#sk-container-id-1 div.sk-estimator:hover {background-color: #d4ebff;}#sk-container-id-1 div.sk-parallel-item::after {content: \"\";width: 100%;border-bottom: 1px solid gray;flex-grow: 1;}#sk-container-id-1 div.sk-label:hover label.sk-toggleable__label {background-color: #d4ebff;}#sk-container-id-1 div.sk-serial::before {content: \"\";position: absolute;border-left: 1px solid gray;box-sizing: border-box;top: 0;bottom: 0;left: 50%;z-index: 0;}#sk-container-id-1 div.sk-serial {display: flex;flex-direction: column;align-items: center;background-color: white;padding-right: 0.2em;padding-left: 0.2em;position: relative;}#sk-container-id-1 div.sk-item {position: relative;z-index: 1;}#sk-container-id-1 div.sk-parallel {display: flex;align-items: stretch;justify-content: center;background-color: white;position: relative;}#sk-container-id-1 div.sk-item::before, #sk-container-id-1 div.sk-parallel-item::before {content: \"\";position: absolute;border-left: 1px solid gray;box-sizing: border-box;top: 0;bottom: 0;left: 50%;z-index: -1;}#sk-container-id-1 div.sk-parallel-item {display: flex;flex-direction: column;z-index: 1;position: relative;background-color: white;}#sk-container-id-1 div.sk-parallel-item:first-child::after {align-self: flex-end;width: 50%;}#sk-container-id-1 div.sk-parallel-item:last-child::after {align-self: flex-start;width: 50%;}#sk-container-id-1 div.sk-parallel-item:only-child::after {width: 0;}#sk-container-id-1 div.sk-dashed-wrapped {border: 1px dashed gray;margin: 0 0.4em 0.5em 0.4em;box-sizing: border-box;padding-bottom: 0.4em;background-color: white;}#sk-container-id-1 div.sk-label label {font-family: monospace;font-weight: bold;display: inline-block;line-height: 1.2em;}#sk-container-id-1 div.sk-label-container {text-align: center;}#sk-container-id-1 div.sk-container {/* jupyter's `normalize.less` sets `[hidden] { display: none; }` but bootstrap.min.css set `[hidden] { display: none !important; }` so we also need the `!important` here to be able to override the default hidden behavior on the sphinx rendered scikit-learn.org. See: https://github.com/scikit-learn/scikit-learn/issues/21755 */display: inline-block !important;position: relative;}#sk-container-id-1 div.sk-text-repr-fallback {display: none;}</style><div id=\"sk-container-id-1\" class=\"sk-top-container\"><div class=\"sk-text-repr-fallback\"><pre>GridSearchCV(estimator=KNeighborsClassifier(),\n",
       "             param_grid={&#x27;n_neighbors&#x27;: array([ 0,  3,  6,  9, 12, 15, 18, 21, 24, 27, 30, 33, 36, 39, 42, 45, 48,\n",
       "       51, 54, 57])})</pre><b>In a Jupyter environment, please rerun this cell to show the HTML representation or trust the notebook. <br />On GitHub, the HTML representation is unable to render, please try loading this page with nbviewer.org.</b></div><div class=\"sk-container\" hidden><div class=\"sk-item sk-dashed-wrapped\"><div class=\"sk-label-container\"><div class=\"sk-label sk-toggleable\"><input class=\"sk-toggleable__control sk-hidden--visually\" id=\"sk-estimator-id-1\" type=\"checkbox\" ><label for=\"sk-estimator-id-1\" class=\"sk-toggleable__label sk-toggleable__label-arrow\">GridSearchCV</label><div class=\"sk-toggleable__content\"><pre>GridSearchCV(estimator=KNeighborsClassifier(),\n",
       "             param_grid={&#x27;n_neighbors&#x27;: array([ 0,  3,  6,  9, 12, 15, 18, 21, 24, 27, 30, 33, 36, 39, 42, 45, 48,\n",
       "       51, 54, 57])})</pre></div></div></div><div class=\"sk-parallel\"><div class=\"sk-parallel-item\"><div class=\"sk-item\"><div class=\"sk-label-container\"><div class=\"sk-label sk-toggleable\"><input class=\"sk-toggleable__control sk-hidden--visually\" id=\"sk-estimator-id-2\" type=\"checkbox\" ><label for=\"sk-estimator-id-2\" class=\"sk-toggleable__label sk-toggleable__label-arrow\">estimator: KNeighborsClassifier</label><div class=\"sk-toggleable__content\"><pre>KNeighborsClassifier()</pre></div></div></div><div class=\"sk-serial\"><div class=\"sk-item\"><div class=\"sk-estimator sk-toggleable\"><input class=\"sk-toggleable__control sk-hidden--visually\" id=\"sk-estimator-id-3\" type=\"checkbox\" ><label for=\"sk-estimator-id-3\" class=\"sk-toggleable__label sk-toggleable__label-arrow\">KNeighborsClassifier</label><div class=\"sk-toggleable__content\"><pre>KNeighborsClassifier()</pre></div></div></div></div></div></div></div></div></div></div>"
      ],
      "text/plain": [
       "GridSearchCV(estimator=KNeighborsClassifier(),\n",
       "             param_grid={'n_neighbors': array([ 0,  3,  6,  9, 12, 15, 18, 21, 24, 27, 30, 33, 36, 39, 42, 45, 48,\n",
       "       51, 54, 57])})"
      ]
     },
     "execution_count": 28,
     "metadata": {},
     "output_type": "execute_result"
    }
   ],
   "source": [
    "model = KNeighborsClassifier()\n",
    "grid = GridSearchCV(estimator=model ,param_grid=param_grid)\n",
    "grid.fit(X_train ,Y_train)"
   ]
  },
  {
   "cell_type": "code",
   "execution_count": 29,
   "metadata": {
    "colab": {
     "base_uri": "https://localhost:8080/"
    },
    "id": "ZvvAZ6VNU57p",
    "outputId": "922dd3fa-8fd1-40a2-f952-4181aef3192c"
   },
   "outputs": [
    {
     "name": "stdout",
     "output_type": "stream",
     "text": [
      "0.45\n",
      "{'n_neighbors': 3}\n"
     ]
    }
   ],
   "source": [
    "print(grid.best_score_)\n",
    "print(grid.best_params_)"
   ]
  },
  {
   "cell_type": "markdown",
   "metadata": {
    "id": "SUTv4O3GV0nD"
   },
   "source": [
    "**Visualizing the CV results**"
   ]
  },
  {
   "cell_type": "code",
   "execution_count": 30,
   "metadata": {
    "colab": {
     "base_uri": "https://localhost:8080/"
    },
    "id": "cuab7VVEVHj8",
    "outputId": "e6adb018-3ed1-42d3-a8ac-385b254dda52"
   },
   "outputs": [
    {
     "data": {
      "text/plain": [
       "39    0.41\n",
       "38    0.41\n",
       "37    0.41\n",
       "36    0.41\n",
       "35    0.41\n",
       "34    0.40\n",
       "33    0.40\n",
       "32    0.39\n",
       "31    0.39\n",
       "30    0.38\n",
       "29    0.38\n",
       "28    0.38\n",
       "27    0.38\n",
       "26    0.37\n",
       "25    0.36\n",
       "24    0.36\n",
       "23    0.36\n",
       "22    0.35\n",
       "21    0.35\n",
       "3     0.33\n",
       "2     0.33\n",
       "19    0.32\n",
       "0     0.30\n",
       "20    0.30\n",
       "18    0.30\n",
       "17    0.29\n",
       "16    0.28\n",
       "9     0.28\n",
       "10    0.27\n",
       "1     0.27\n",
       "6     0.27\n",
       "12    0.26\n",
       "7     0.24\n",
       "5     0.24\n",
       "4     0.24\n",
       "15    0.21\n",
       "8     0.21\n",
       "13    0.21\n",
       "11    0.21\n",
       "14    0.20\n",
       "dtype: float64"
      ]
     },
     "execution_count": 30,
     "metadata": {},
     "output_type": "execute_result"
    }
   ],
   "source": [
    "# search for an optimal value of K for KNN\n",
    "# range of k we want to try\n",
    "k_range = range(1, 41)\n",
    "# empty list to store scores\n",
    "k_scores = []\n",
    "\n",
    "#we will loop through reasonable values of k\n",
    "for k in k_range:\n",
    "    # 2. run KNeighborsClassifier with k neighbours\n",
    "    knn = KNeighborsClassifier(n_neighbors=k)\n",
    "    # 3. obtain cross_val_score for KNeighborsClassifier with k neighbours\n",
    "    scores = cross_val_score(knn, X, Y, cv=kfold, scoring='accuracy')\n",
    "    # 4. append mean of scores for k neighbors to k_scores list\n",
    "    k_scores.append(scores.mean())\n",
    "# k_scores=grid.best_score_\n",
    "pd.Series(k_scores).sort_values(ascending=False)"
   ]
  },
  {
   "cell_type": "code",
   "execution_count": 31,
   "metadata": {
    "colab": {
     "base_uri": "https://localhost:8080/",
     "height": 449
    },
    "id": "U6HpDKXlVg3D",
    "outputId": "7cd4fda2-be5d-43d4-8832-f6d55d4c7f05"
   },
   "outputs": [
    {
     "data": {
      "image/png": "[encoded data removed]",
      "text/plain": [
       "<Figure size 640x480 with 1 Axes>"
      ]
     },
     "metadata": {},
     "output_type": "display_data"
    }
   ],
   "source": [
    "import matplotlib.pyplot as plt\n",
    "\n",
    "# plot to see clearly\n",
    "plt.plot(k_range, k_scores)\n",
    "\n",
    "plt.xlabel('Value of K for KNN')\n",
    "plt.ylabel('Cross-Validated Accuracy')\n",
    "plt.show()"
   ]
  },
  {
   "cell_type": "markdown",
   "metadata": {
    "id": "rRIoVnC5YKEr"
   },
   "source": [
    "**1)The most important hyperparameter for KNN is the number of neighbors (n_neighbors).**"
   ]
  },
  {
   "cell_type": "markdown",
   "metadata": {
    "id": "OtatsaBJYT_P"
   },
   "source": [
    "**2)Commonly used distance metrics for optimizing K-Nearest Neighbors (KNN) algorithms include Euclidean distance and Cosine similarity. Euclidean distance measures the straight-line distance between two points, suitable for continuous features.**"
   ]
  },
  {
   "cell_type": "code",
   "execution_count": null,
   "metadata": {
    "id": "Pg3PP6abV6Kk"
   },
   "outputs": [],
   "source": []
  }
 ],
 "metadata": {
  "colab": {
   "provenance": []
  },
  "kernelspec": {
   "display_name": "Python 3 (ipykernel)",
   "language": "python",
   "name": "python3"
  },
  "language_info": {
   "codemirror_mode": {
    "name": "ipython",
    "version": 3
   },
   "file_extension": ".py",
   "mimetype": "text/x-python",
   "name": "python",
   "nbconvert_exporter": "python",
   "pygments_lexer": "ipython3",
   "version": "3.11.7"
  }
 },
 "nbformat": 4,
 "nbformat_minor": 4
}
